{
 "cells": [
  {
   "cell_type": "markdown",
   "metadata": {},
   "source": [
    "# 1. Introdução e Apresentação do Projeto"
   ]
  },
  {
   "cell_type": "markdown",
   "metadata": {},
   "source": [
    "&ensp; O notebook abaixo apresenta a solução criada por Lucas Nepomuceno do Ateliê 13 do Inteli para o desafio \"Qual o Próximo hit do Spotify\". Nele está exposto a exploração dos dados, os processos de limpeza, a codificação, a formulação de hipóteses, a seleção de features, a construção e avaliação do modelo, o finetuning de hiperparâmetros e a apresentação de resultados, nesta ordem. Vale salientar que esta é uma solução de aprendizado supervisionado e como tal, deve prever, com base nas features selecionadas do modelo, se uma música é ou não popular. Iniciamos esse processo com a importação das bibliotecas."
   ]
  },
  {
   "cell_type": "markdown",
   "metadata": {},
   "source": [
    "# 2. Configurações Iniciais"
   ]
  },
  {
   "cell_type": "markdown",
   "metadata": {},
   "source": [
    "## 2.1. Importação das Bibliotecas"
   ]
  },
  {
   "cell_type": "code",
   "execution_count": 3213,
   "metadata": {},
   "outputs": [],
   "source": [
    "import numpy as np\n",
    "import pandas as pd\n",
    "import matplotlib.pyplot as plt\n",
    "import seaborn as sns\n",
    "from sklearn.preprocessing import MinMaxScaler\n",
    "from sklearn.feature_selection import mutual_info_classif\n",
    "from sklearn.model_selection import train_test_split\n",
    "from sklearn.ensemble import RandomForestClassifier\n",
    "from sklearn.metrics import classification_report\n",
    "from sklearn.metrics import accuracy_score\n",
    "from sklearn.metrics import confusion_matrix\n",
    "from sklearn.model_selection import RandomizedSearchCV\n"
   ]
  },
  {
   "cell_type": "markdown",
   "metadata": {},
   "source": [
    "&ensp; Em seguida, deve-se importar a base de dados."
   ]
  },
  {
   "cell_type": "markdown",
   "metadata": {},
   "source": [
    "## 2.2. Importação da base de dados"
   ]
  },
  {
   "cell_type": "code",
   "execution_count": 3214,
   "metadata": {},
   "outputs": [],
   "source": [
    "df = pd.read_csv('train.csv')"
   ]
  },
  {
   "cell_type": "markdown",
   "metadata": {},
   "source": [
    "## 2.3. Processo 1: Exploração Inicial dos Dados"
   ]
  },
  {
   "cell_type": "markdown",
   "metadata": {},
   "source": [
    "&ensp; Antes de iniciar qualquer trabalho no banco de dados é essencial compreender como esse *DataFrame* está estruturado. Compreende-se, primeiro, quais são as colunas, de que tipo são e em escala estão. Procura-se, então, por padrões, tendências e correlações nos dados, preparando-o também o processo de limpeza e seleção de features."
   ]
  },
  {
   "cell_type": "markdown",
   "metadata": {},
   "source": [
    "### 2.3.1. Compreendendo o *DataFrame*"
   ]
  },
  {
   "cell_type": "markdown",
   "metadata": {},
   "source": [
    "&ensp; A fim de entender o conteúdo de cada coluna de maneira superficial, usa-se o método ``head()``"
   ]
  },
  {
   "cell_type": "code",
   "execution_count": 3215,
   "metadata": {},
   "outputs": [
    {
     "data": {
      "text/html": [
       "<div>\n",
       "<style scoped>\n",
       "    .dataframe tbody tr th:only-of-type {\n",
       "        vertical-align: middle;\n",
       "    }\n",
       "\n",
       "    .dataframe tbody tr th {\n",
       "        vertical-align: top;\n",
       "    }\n",
       "\n",
       "    .dataframe thead th {\n",
       "        text-align: right;\n",
       "    }\n",
       "</style>\n",
       "<table border=\"1\" class=\"dataframe\">\n",
       "  <thead>\n",
       "    <tr style=\"text-align: right;\">\n",
       "      <th></th>\n",
       "      <th>track_unique_id</th>\n",
       "      <th>track_id</th>\n",
       "      <th>artists</th>\n",
       "      <th>album_name</th>\n",
       "      <th>track_name</th>\n",
       "      <th>duration_ms</th>\n",
       "      <th>explicit</th>\n",
       "      <th>danceability</th>\n",
       "      <th>energy</th>\n",
       "      <th>key</th>\n",
       "      <th>loudness</th>\n",
       "      <th>mode</th>\n",
       "      <th>speechiness</th>\n",
       "      <th>acousticness</th>\n",
       "      <th>instrumentalness</th>\n",
       "      <th>liveness</th>\n",
       "      <th>valence</th>\n",
       "      <th>tempo</th>\n",
       "      <th>time_signature</th>\n",
       "      <th>track_genre</th>\n",
       "      <th>popularity_target</th>\n",
       "    </tr>\n",
       "  </thead>\n",
       "  <tbody>\n",
       "    <tr>\n",
       "      <th>0</th>\n",
       "      <td>41996</td>\n",
       "      <td>7hUhmkALyQ8SX9mJs5XI3D</td>\n",
       "      <td>Love and Rockets</td>\n",
       "      <td>Love and Rockets</td>\n",
       "      <td>Motorcycle</td>\n",
       "      <td>211533</td>\n",
       "      <td>False</td>\n",
       "      <td>0.305</td>\n",
       "      <td>0.8490</td>\n",
       "      <td>9</td>\n",
       "      <td>-10.795</td>\n",
       "      <td>1</td>\n",
       "      <td>0.0549</td>\n",
       "      <td>0.000058</td>\n",
       "      <td>0.056700</td>\n",
       "      <td>0.4640</td>\n",
       "      <td>0.3200</td>\n",
       "      <td>141.793</td>\n",
       "      <td>4</td>\n",
       "      <td>goth</td>\n",
       "      <td>0</td>\n",
       "    </tr>\n",
       "    <tr>\n",
       "      <th>1</th>\n",
       "      <td>76471</td>\n",
       "      <td>5x59U89ZnjZXuNAAlc8X1u</td>\n",
       "      <td>Filippa Giordano</td>\n",
       "      <td>Filippa Giordano</td>\n",
       "      <td>Addio del passato - From \"La traviata\"</td>\n",
       "      <td>196000</td>\n",
       "      <td>False</td>\n",
       "      <td>0.287</td>\n",
       "      <td>0.1900</td>\n",
       "      <td>7</td>\n",
       "      <td>-12.030</td>\n",
       "      <td>0</td>\n",
       "      <td>0.0370</td>\n",
       "      <td>0.930000</td>\n",
       "      <td>0.000356</td>\n",
       "      <td>0.0834</td>\n",
       "      <td>0.1330</td>\n",
       "      <td>83.685</td>\n",
       "      <td>4</td>\n",
       "      <td>opera</td>\n",
       "      <td>0</td>\n",
       "    </tr>\n",
       "    <tr>\n",
       "      <th>2</th>\n",
       "      <td>54809</td>\n",
       "      <td>70Vng5jLzoJLmeLu3ayBQq</td>\n",
       "      <td>Susumu Yokota</td>\n",
       "      <td>Symbol</td>\n",
       "      <td>Purple Rose Minuet</td>\n",
       "      <td>216506</td>\n",
       "      <td>False</td>\n",
       "      <td>0.583</td>\n",
       "      <td>0.5090</td>\n",
       "      <td>1</td>\n",
       "      <td>-9.661</td>\n",
       "      <td>1</td>\n",
       "      <td>0.0362</td>\n",
       "      <td>0.777000</td>\n",
       "      <td>0.202000</td>\n",
       "      <td>0.1150</td>\n",
       "      <td>0.5440</td>\n",
       "      <td>90.459</td>\n",
       "      <td>3</td>\n",
       "      <td>idm</td>\n",
       "      <td>1</td>\n",
       "    </tr>\n",
       "    <tr>\n",
       "      <th>3</th>\n",
       "      <td>16326</td>\n",
       "      <td>1cRfzLJapgtwJ61xszs37b</td>\n",
       "      <td>Franz Liszt;YUNDI</td>\n",
       "      <td>Relajación y siestas</td>\n",
       "      <td>Liebeslied (Widmung), S. 566</td>\n",
       "      <td>218346</td>\n",
       "      <td>False</td>\n",
       "      <td>0.163</td>\n",
       "      <td>0.0368</td>\n",
       "      <td>8</td>\n",
       "      <td>-23.149</td>\n",
       "      <td>1</td>\n",
       "      <td>0.0472</td>\n",
       "      <td>0.991000</td>\n",
       "      <td>0.899000</td>\n",
       "      <td>0.1070</td>\n",
       "      <td>0.0387</td>\n",
       "      <td>69.442</td>\n",
       "      <td>3</td>\n",
       "      <td>classical</td>\n",
       "      <td>0</td>\n",
       "    </tr>\n",
       "    <tr>\n",
       "      <th>4</th>\n",
       "      <td>109799</td>\n",
       "      <td>47d5lYjbiMy0EdMRV8lRou</td>\n",
       "      <td>Scooter</td>\n",
       "      <td>Scooter Forever</td>\n",
       "      <td>The Darkside</td>\n",
       "      <td>173160</td>\n",
       "      <td>False</td>\n",
       "      <td>0.647</td>\n",
       "      <td>0.9210</td>\n",
       "      <td>2</td>\n",
       "      <td>-7.294</td>\n",
       "      <td>1</td>\n",
       "      <td>0.1850</td>\n",
       "      <td>0.000939</td>\n",
       "      <td>0.371000</td>\n",
       "      <td>0.1310</td>\n",
       "      <td>0.1710</td>\n",
       "      <td>137.981</td>\n",
       "      <td>4</td>\n",
       "      <td>techno</td>\n",
       "      <td>0</td>\n",
       "    </tr>\n",
       "  </tbody>\n",
       "</table>\n",
       "</div>"
      ],
      "text/plain": [
       "   track_unique_id                track_id            artists  \\\n",
       "0            41996  7hUhmkALyQ8SX9mJs5XI3D   Love and Rockets   \n",
       "1            76471  5x59U89ZnjZXuNAAlc8X1u   Filippa Giordano   \n",
       "2            54809  70Vng5jLzoJLmeLu3ayBQq      Susumu Yokota   \n",
       "3            16326  1cRfzLJapgtwJ61xszs37b  Franz Liszt;YUNDI   \n",
       "4           109799  47d5lYjbiMy0EdMRV8lRou            Scooter   \n",
       "\n",
       "             album_name                              track_name  duration_ms  \\\n",
       "0      Love and Rockets                              Motorcycle       211533   \n",
       "1      Filippa Giordano  Addio del passato - From \"La traviata\"       196000   \n",
       "2                Symbol                      Purple Rose Minuet       216506   \n",
       "3  Relajación y siestas            Liebeslied (Widmung), S. 566       218346   \n",
       "4       Scooter Forever                            The Darkside       173160   \n",
       "\n",
       "   explicit  danceability  energy  key  loudness  mode  speechiness  \\\n",
       "0     False         0.305  0.8490    9   -10.795     1       0.0549   \n",
       "1     False         0.287  0.1900    7   -12.030     0       0.0370   \n",
       "2     False         0.583  0.5090    1    -9.661     1       0.0362   \n",
       "3     False         0.163  0.0368    8   -23.149     1       0.0472   \n",
       "4     False         0.647  0.9210    2    -7.294     1       0.1850   \n",
       "\n",
       "   acousticness  instrumentalness  liveness  valence    tempo  time_signature  \\\n",
       "0      0.000058          0.056700    0.4640   0.3200  141.793               4   \n",
       "1      0.930000          0.000356    0.0834   0.1330   83.685               4   \n",
       "2      0.777000          0.202000    0.1150   0.5440   90.459               3   \n",
       "3      0.991000          0.899000    0.1070   0.0387   69.442               3   \n",
       "4      0.000939          0.371000    0.1310   0.1710  137.981               4   \n",
       "\n",
       "  track_genre  popularity_target  \n",
       "0        goth                  0  \n",
       "1       opera                  0  \n",
       "2         idm                  1  \n",
       "3   classical                  0  \n",
       "4      techno                  0  "
      ]
     },
     "execution_count": 3215,
     "metadata": {},
     "output_type": "execute_result"
    }
   ],
   "source": [
    "pd.set_option('display.max_columns', 100)\n",
    "df.head()"
   ]
  },
  {
   "cell_type": "markdown",
   "metadata": {},
   "source": [
    "&ensp; Para entender a estrutura dos dados, como o tipo e a quantidade de valores não-nulos, utilizamos o metódo ``info()``"
   ]
  },
  {
   "cell_type": "code",
   "execution_count": 3216,
   "metadata": {},
   "outputs": [
    {
     "name": "stdout",
     "output_type": "stream",
     "text": [
      "<class 'pandas.core.frame.DataFrame'>\n",
      "RangeIndex: 79800 entries, 0 to 79799\n",
      "Data columns (total 21 columns):\n",
      " #   Column             Non-Null Count  Dtype  \n",
      "---  ------             --------------  -----  \n",
      " 0   track_unique_id    79800 non-null  int64  \n",
      " 1   track_id           79800 non-null  object \n",
      " 2   artists            79800 non-null  object \n",
      " 3   album_name         79800 non-null  object \n",
      " 4   track_name         79800 non-null  object \n",
      " 5   duration_ms        79800 non-null  int64  \n",
      " 6   explicit           79800 non-null  bool   \n",
      " 7   danceability       79800 non-null  float64\n",
      " 8   energy             79800 non-null  float64\n",
      " 9   key                79800 non-null  int64  \n",
      " 10  loudness           79800 non-null  float64\n",
      " 11  mode               79800 non-null  int64  \n",
      " 12  speechiness        79800 non-null  float64\n",
      " 13  acousticness       79800 non-null  float64\n",
      " 14  instrumentalness   79800 non-null  float64\n",
      " 15  liveness           79800 non-null  float64\n",
      " 16  valence            79800 non-null  float64\n",
      " 17  tempo              79800 non-null  float64\n",
      " 18  time_signature     79800 non-null  int64  \n",
      " 19  track_genre        79800 non-null  object \n",
      " 20  popularity_target  79800 non-null  int64  \n",
      "dtypes: bool(1), float64(9), int64(6), object(5)\n",
      "memory usage: 12.3+ MB\n"
     ]
    }
   ],
   "source": [
    "df.info()"
   ]
  },
  {
   "cell_type": "markdown",
   "metadata": {},
   "source": [
    "&ensp; Esta tabela nos permite verificar que todas as colunas em nosso DataFrame estão completamente preenchidas. Portanto, o processo de tratar valores nulos na limpeza, por exemplo, pode ser descartado. Além disso, é possível observar que há uma coluna do tipo ``bool`` (coluna ``explicit``) que provavelmente será transformada durante o processo de limpeza, pois outras colunas booleanas utilizam o tipo ``int`` em nosso *DataFrame*. Atenta-se, também, ao fato de que o DataFrame é composto de colunas númericas e categóricas, de modo que esta última deverá ser transformada em colunas númericas para a sua utilização nos modelos de aprendizado de máquinas. Por último, evidencia-se que no caso de nosso *DataFrame*, há dois ids, além do index de cada linha."
   ]
  },
  {
   "cell_type": "markdown",
   "metadata": {},
   "source": [
    "&ensp; O próximo passo na compreensão da tabela é entender a variedade de instâncias únicas em cada coluna. Para tanto, utiliza-se ``nunique()``."
   ]
  },
  {
   "cell_type": "code",
   "execution_count": 3217,
   "metadata": {},
   "outputs": [
    {
     "data": {
      "text/plain": [
       "track_unique_id      79800\n",
       "track_id             66720\n",
       "artists              25775\n",
       "album_name           37315\n",
       "track_name           55767\n",
       "duration_ms          40712\n",
       "explicit                 2\n",
       "danceability          1120\n",
       "energy                1932\n",
       "key                     12\n",
       "loudness             17562\n",
       "mode                     2\n",
       "speechiness           1454\n",
       "acousticness          4856\n",
       "instrumentalness      5252\n",
       "liveness              1706\n",
       "valence               1737\n",
       "tempo                37292\n",
       "time_signature           5\n",
       "track_genre            114\n",
       "popularity_target        2\n",
       "dtype: int64"
      ]
     },
     "execution_count": 3217,
     "metadata": {},
     "output_type": "execute_result"
    }
   ],
   "source": [
    "df.nunique()"
   ]
  },
  {
   "cell_type": "markdown",
   "metadata": {},
   "source": [
    "&ensp; Esta verificação inicial já evidencia que apenas ``track_unique_id`` pode ser tomado como o índice desse DataFrame. Enquanto isso, ``track_id`` permanece sendo uma incógnita. Portanto, faz-se:"
   ]
  },
  {
   "cell_type": "code",
   "execution_count": 3218,
   "metadata": {},
   "outputs": [],
   "source": [
    "df = df.set_index('track_unique_id')"
   ]
  },
  {
   "cell_type": "markdown",
   "metadata": {},
   "source": [
    "&ensp; Além disso, pode-se averiguar a distribuição de popularidade antes do processo de limpeza a fim de se certificar do balanceamento das classes popular e não popular em nosso banco de dados."
   ]
  },
  {
   "cell_type": "code",
   "execution_count": 3219,
   "metadata": {},
   "outputs": [
    {
     "data": {
      "image/png": "[encoded data removed]",
      "text/plain": [
       "<Figure size 800x800 with 1 Axes>"
      ]
     },
     "metadata": {},
     "output_type": "display_data"
    }
   ],
   "source": [
    "# Contando os valores\n",
    "sizes = df['popularity_target'].value_counts()\n",
    "labels = df['popularity_target'].unique()\n",
    "\n",
    "# Criando o gráfico de pizza\n",
    "plt.figure(figsize=(8, 8))\n",
    "plt.pie(sizes, labels=['Não Popular', 'Popular'], autopct='%1.1f%%', startangle=90, colors=['r', 'b'])\n",
    "\n",
    "# Exibindo o gráfico\n",
    "plt.title('Distribuição de Popularidade no Banco de Dados')\n",
    "plt.show()"
   ]
  },
  {
   "cell_type": "markdown",
   "metadata": {},
   "source": [
    "&ensp; Vê-se, portanto que pré-limpeza, as classes estão balanceadas."
   ]
  },
  {
   "cell_type": "markdown",
   "metadata": {},
   "source": [
    "### 2.3.2. Tendências, Padrões e Correlações"
   ]
  },
  {
   "cell_type": "markdown",
   "metadata": {},
   "source": [
    "&ensp; Para familiarizar-se com os dados estudados, é preciso compreendê-los profundamente e uma das maneiras de se fazer isso é procurar por padrões, tendências e correlações no banco de dados."
   ]
  },
  {
   "cell_type": "markdown",
   "metadata": {},
   "source": [
    "&ensp; Observemos, por exemplo, a média das faixas em termos de ``duration_ms``, ``danceability``, ``energy``, ``loudness``, ``speechiness``, ``acousticness``, ``instrumentalness``, ``liveness``, e ``valence``"
   ]
  },
  {
   "cell_type": "code",
   "execution_count": 3220,
   "metadata": {},
   "outputs": [
    {
     "data": {
      "text/plain": [
       "duration_ms         227902.192506\n",
       "danceability             0.567318\n",
       "energy                   0.641529\n",
       "loudness                -8.263741\n",
       "speechiness              0.084750\n",
       "acousticness             0.314979\n",
       "instrumentalness         0.157319\n",
       "liveness                 0.213313\n",
       "valence                  0.474267\n",
       "dtype: float64"
      ]
     },
     "execution_count": 3220,
     "metadata": {},
     "output_type": "execute_result"
    }
   ],
   "source": [
    "df[['duration_ms','danceability', 'energy', 'loudness', 'speechiness', 'acousticness', 'instrumentalness', 'liveness', 'valence']].mean()"
   ]
  },
  {
   "cell_type": "markdown",
   "metadata": {},
   "source": [
    "&ensp; Alguns aspectos ficam evidentes ao se analisar as médias destas colunas. O primeiro é a média negativa que aparece em ``loudness``. Dado que esta coluna deve representar o volume das músicas em décibeis, infere-se a existência de, pelo menos, um valor incorretamente inserido nesta coluna. Isso, pois ``loudness`` deveria conter apenas valores positivos. Observa-se também a baixa presença de palavras faladas nas faixas de nosso banco de dados representada pelo baixíssimo valor médio de ``speechness`` (< 0.1), o que é incomum.\n",
    "\n",
    "&ensp; Outras questões interessantes podem ser abordadas pela média. Por exemplo, o valor médio de positividade é menor que 0.5, o que indicam músicas mais tristes ou apáticas. Não obstante, a faixa média em nosso banco de daods é dançante e enérgica, o que constitui uma composição complexa: dançante e enérgica, porém baixo-astral. "
   ]
  },
  {
   "cell_type": "markdown",
   "metadata": {},
   "source": [
    "&ensp; Pode-se também verificar outras medidas, além da média, em nosso banco de dados, utilizando-se o ``describe()``"
   ]
  },
  {
   "cell_type": "code",
   "execution_count": 3221,
   "metadata": {},
   "outputs": [
    {
     "data": {
      "text/html": [
       "<div>\n",
       "<style scoped>\n",
       "    .dataframe tbody tr th:only-of-type {\n",
       "        vertical-align: middle;\n",
       "    }\n",
       "\n",
       "    .dataframe tbody tr th {\n",
       "        vertical-align: top;\n",
       "    }\n",
       "\n",
       "    .dataframe thead th {\n",
       "        text-align: right;\n",
       "    }\n",
       "</style>\n",
       "<table border=\"1\" class=\"dataframe\">\n",
       "  <thead>\n",
       "    <tr style=\"text-align: right;\">\n",
       "      <th></th>\n",
       "      <th>duration_ms</th>\n",
       "      <th>danceability</th>\n",
       "      <th>energy</th>\n",
       "      <th>loudness</th>\n",
       "      <th>speechiness</th>\n",
       "      <th>acousticness</th>\n",
       "      <th>instrumentalness</th>\n",
       "      <th>liveness</th>\n",
       "      <th>valence</th>\n",
       "    </tr>\n",
       "  </thead>\n",
       "  <tbody>\n",
       "    <tr>\n",
       "      <th>count</th>\n",
       "      <td>7.980000e+04</td>\n",
       "      <td>79800.000000</td>\n",
       "      <td>79800.000000</td>\n",
       "      <td>79800.000000</td>\n",
       "      <td>79800.000000</td>\n",
       "      <td>79800.000000</td>\n",
       "      <td>79800.000000</td>\n",
       "      <td>79800.000000</td>\n",
       "      <td>79800.000000</td>\n",
       "    </tr>\n",
       "    <tr>\n",
       "      <th>mean</th>\n",
       "      <td>2.279022e+05</td>\n",
       "      <td>0.567318</td>\n",
       "      <td>0.641529</td>\n",
       "      <td>-8.263741</td>\n",
       "      <td>0.084750</td>\n",
       "      <td>0.314979</td>\n",
       "      <td>0.157319</td>\n",
       "      <td>0.213313</td>\n",
       "      <td>0.474267</td>\n",
       "    </tr>\n",
       "    <tr>\n",
       "      <th>std</th>\n",
       "      <td>1.050599e+05</td>\n",
       "      <td>0.173110</td>\n",
       "      <td>0.251441</td>\n",
       "      <td>5.035504</td>\n",
       "      <td>0.105657</td>\n",
       "      <td>0.332512</td>\n",
       "      <td>0.310792</td>\n",
       "      <td>0.190075</td>\n",
       "      <td>0.259010</td>\n",
       "    </tr>\n",
       "    <tr>\n",
       "      <th>min</th>\n",
       "      <td>1.338600e+04</td>\n",
       "      <td>0.000000</td>\n",
       "      <td>0.000019</td>\n",
       "      <td>-49.307000</td>\n",
       "      <td>0.000000</td>\n",
       "      <td>0.000000</td>\n",
       "      <td>0.000000</td>\n",
       "      <td>0.000000</td>\n",
       "      <td>0.000000</td>\n",
       "    </tr>\n",
       "    <tr>\n",
       "      <th>25%</th>\n",
       "      <td>1.744360e+05</td>\n",
       "      <td>0.456000</td>\n",
       "      <td>0.472000</td>\n",
       "      <td>-10.006000</td>\n",
       "      <td>0.035900</td>\n",
       "      <td>0.017000</td>\n",
       "      <td>0.000000</td>\n",
       "      <td>0.097900</td>\n",
       "      <td>0.261000</td>\n",
       "    </tr>\n",
       "    <tr>\n",
       "      <th>50%</th>\n",
       "      <td>2.128130e+05</td>\n",
       "      <td>0.581000</td>\n",
       "      <td>0.685000</td>\n",
       "      <td>-7.012000</td>\n",
       "      <td>0.049000</td>\n",
       "      <td>0.169000</td>\n",
       "      <td>0.000041</td>\n",
       "      <td>0.132000</td>\n",
       "      <td>0.464000</td>\n",
       "    </tr>\n",
       "    <tr>\n",
       "      <th>75%</th>\n",
       "      <td>2.614260e+05</td>\n",
       "      <td>0.695000</td>\n",
       "      <td>0.854000</td>\n",
       "      <td>-5.000000</td>\n",
       "      <td>0.084500</td>\n",
       "      <td>0.598000</td>\n",
       "      <td>0.050500</td>\n",
       "      <td>0.273000</td>\n",
       "      <td>0.684000</td>\n",
       "    </tr>\n",
       "    <tr>\n",
       "      <th>max</th>\n",
       "      <td>5.237295e+06</td>\n",
       "      <td>0.985000</td>\n",
       "      <td>1.000000</td>\n",
       "      <td>4.532000</td>\n",
       "      <td>0.965000</td>\n",
       "      <td>0.996000</td>\n",
       "      <td>1.000000</td>\n",
       "      <td>1.000000</td>\n",
       "      <td>0.995000</td>\n",
       "    </tr>\n",
       "  </tbody>\n",
       "</table>\n",
       "</div>"
      ],
      "text/plain": [
       "        duration_ms  danceability        energy      loudness   speechiness  \\\n",
       "count  7.980000e+04  79800.000000  79800.000000  79800.000000  79800.000000   \n",
       "mean   2.279022e+05      0.567318      0.641529     -8.263741      0.084750   \n",
       "std    1.050599e+05      0.173110      0.251441      5.035504      0.105657   \n",
       "min    1.338600e+04      0.000000      0.000019    -49.307000      0.000000   \n",
       "25%    1.744360e+05      0.456000      0.472000    -10.006000      0.035900   \n",
       "50%    2.128130e+05      0.581000      0.685000     -7.012000      0.049000   \n",
       "75%    2.614260e+05      0.695000      0.854000     -5.000000      0.084500   \n",
       "max    5.237295e+06      0.985000      1.000000      4.532000      0.965000   \n",
       "\n",
       "       acousticness  instrumentalness      liveness       valence  \n",
       "count  79800.000000      79800.000000  79800.000000  79800.000000  \n",
       "mean       0.314979          0.157319      0.213313      0.474267  \n",
       "std        0.332512          0.310792      0.190075      0.259010  \n",
       "min        0.000000          0.000000      0.000000      0.000000  \n",
       "25%        0.017000          0.000000      0.097900      0.261000  \n",
       "50%        0.169000          0.000041      0.132000      0.464000  \n",
       "75%        0.598000          0.050500      0.273000      0.684000  \n",
       "max        0.996000          1.000000      1.000000      0.995000  "
      ]
     },
     "execution_count": 3221,
     "metadata": {},
     "output_type": "execute_result"
    }
   ],
   "source": [
    "df[['duration_ms','danceability', 'energy', 'loudness', 'speechiness', 'acousticness', 'instrumentalness', 'liveness', 'valence']].describe()"
   ]
  },
  {
   "cell_type": "markdown",
   "metadata": {},
   "source": [
    "&ensp; Apesar da grande quantidade de informações na tabela acima, pode-se verificar algumas características das variáveis que estamos discutindo. O primeiro é que as músicas possuem duração média de aproximadamente 4 minutos. Porém, um dos aspectos mais claros é a constituição estranha da coluna ``loudness``, na qual média e quartis são negativos. Para melhor visualização deste comportamento, gera-se o seguinte *box plot*."
   ]
  },
  {
   "cell_type": "code",
   "execution_count": 3222,
   "metadata": {},
   "outputs": [
    {
     "data": {
      "text/plain": [
       "Text(0.5, 1.0, 'Box Plot dos Valores de Loudness Sem Outliers')"
      ]
     },
     "execution_count": 3222,
     "metadata": {},
     "output_type": "execute_result"
    },
    {
     "data": {
      "image/png": "[encoded data removed]",
      "text/plain": [
       "<Figure size 1200x600 with 1 Axes>"
      ]
     },
     "metadata": {},
     "output_type": "display_data"
    }
   ],
   "source": [
    "plt.figure(figsize=(12,6))\n",
    "\n",
    "plt.boxplot(df['loudness'], showfliers=False)\n",
    "plt.title('Box Plot dos Valores de Loudness Sem Outliers')"
   ]
  },
  {
   "cell_type": "markdown",
   "metadata": {},
   "source": [
    "OBS: Para tratarmos da estrutura da coluna, resolveu-se por retirar os outliers da visualização"
   ]
  },
  {
   "cell_type": "markdown",
   "metadata": {},
   "source": [
    "&ensp; Como é possível observar no *box plot* acima, a coluna *loudness* contém dados majoritariamente negativos. Isto revela um aspecto a ser tratado com ponderação no processo de limpeza, pois esta coluna está, portanto, majoritariamente constituída de dados incorretos."
   ]
  },
  {
   "cell_type": "code",
   "execution_count": 3223,
   "metadata": {},
   "outputs": [
    {
     "data": {
      "text/html": [
       "<div>\n",
       "<style scoped>\n",
       "    .dataframe tbody tr th:only-of-type {\n",
       "        vertical-align: middle;\n",
       "    }\n",
       "\n",
       "    .dataframe tbody tr th {\n",
       "        vertical-align: top;\n",
       "    }\n",
       "\n",
       "    .dataframe thead th {\n",
       "        text-align: right;\n",
       "    }\n",
       "</style>\n",
       "<table border=\"1\" class=\"dataframe\">\n",
       "  <thead>\n",
       "    <tr style=\"text-align: right;\">\n",
       "      <th></th>\n",
       "      <th>duration_ms</th>\n",
       "      <th>danceability</th>\n",
       "      <th>energy</th>\n",
       "      <th>loudness</th>\n",
       "      <th>speechiness</th>\n",
       "      <th>acousticness</th>\n",
       "      <th>instrumentalness</th>\n",
       "      <th>liveness</th>\n",
       "      <th>valence</th>\n",
       "    </tr>\n",
       "  </thead>\n",
       "  <tbody>\n",
       "    <tr>\n",
       "      <th>count</th>\n",
       "      <td>7.980000e+04</td>\n",
       "      <td>79800.000000</td>\n",
       "      <td>79800.000000</td>\n",
       "      <td>79800.000000</td>\n",
       "      <td>79800.000000</td>\n",
       "      <td>79800.000000</td>\n",
       "      <td>79800.000000</td>\n",
       "      <td>79800.000000</td>\n",
       "      <td>79800.000000</td>\n",
       "    </tr>\n",
       "    <tr>\n",
       "      <th>mean</th>\n",
       "      <td>2.279022e+05</td>\n",
       "      <td>0.567318</td>\n",
       "      <td>0.641529</td>\n",
       "      <td>-8.263741</td>\n",
       "      <td>0.084750</td>\n",
       "      <td>0.314979</td>\n",
       "      <td>0.157319</td>\n",
       "      <td>0.213313</td>\n",
       "      <td>0.474267</td>\n",
       "    </tr>\n",
       "    <tr>\n",
       "      <th>std</th>\n",
       "      <td>1.050599e+05</td>\n",
       "      <td>0.173110</td>\n",
       "      <td>0.251441</td>\n",
       "      <td>5.035504</td>\n",
       "      <td>0.105657</td>\n",
       "      <td>0.332512</td>\n",
       "      <td>0.310792</td>\n",
       "      <td>0.190075</td>\n",
       "      <td>0.259010</td>\n",
       "    </tr>\n",
       "    <tr>\n",
       "      <th>min</th>\n",
       "      <td>1.338600e+04</td>\n",
       "      <td>0.000000</td>\n",
       "      <td>0.000019</td>\n",
       "      <td>-49.307000</td>\n",
       "      <td>0.000000</td>\n",
       "      <td>0.000000</td>\n",
       "      <td>0.000000</td>\n",
       "      <td>0.000000</td>\n",
       "      <td>0.000000</td>\n",
       "    </tr>\n",
       "    <tr>\n",
       "      <th>25%</th>\n",
       "      <td>1.744360e+05</td>\n",
       "      <td>0.456000</td>\n",
       "      <td>0.472000</td>\n",
       "      <td>-10.006000</td>\n",
       "      <td>0.035900</td>\n",
       "      <td>0.017000</td>\n",
       "      <td>0.000000</td>\n",
       "      <td>0.097900</td>\n",
       "      <td>0.261000</td>\n",
       "    </tr>\n",
       "    <tr>\n",
       "      <th>50%</th>\n",
       "      <td>2.128130e+05</td>\n",
       "      <td>0.581000</td>\n",
       "      <td>0.685000</td>\n",
       "      <td>-7.012000</td>\n",
       "      <td>0.049000</td>\n",
       "      <td>0.169000</td>\n",
       "      <td>0.000041</td>\n",
       "      <td>0.132000</td>\n",
       "      <td>0.464000</td>\n",
       "    </tr>\n",
       "    <tr>\n",
       "      <th>75%</th>\n",
       "      <td>2.614260e+05</td>\n",
       "      <td>0.695000</td>\n",
       "      <td>0.854000</td>\n",
       "      <td>-5.000000</td>\n",
       "      <td>0.084500</td>\n",
       "      <td>0.598000</td>\n",
       "      <td>0.050500</td>\n",
       "      <td>0.273000</td>\n",
       "      <td>0.684000</td>\n",
       "    </tr>\n",
       "    <tr>\n",
       "      <th>max</th>\n",
       "      <td>5.237295e+06</td>\n",
       "      <td>0.985000</td>\n",
       "      <td>1.000000</td>\n",
       "      <td>4.532000</td>\n",
       "      <td>0.965000</td>\n",
       "      <td>0.996000</td>\n",
       "      <td>1.000000</td>\n",
       "      <td>1.000000</td>\n",
       "      <td>0.995000</td>\n",
       "    </tr>\n",
       "  </tbody>\n",
       "</table>\n",
       "</div>"
      ],
      "text/plain": [
       "        duration_ms  danceability        energy      loudness   speechiness  \\\n",
       "count  7.980000e+04  79800.000000  79800.000000  79800.000000  79800.000000   \n",
       "mean   2.279022e+05      0.567318      0.641529     -8.263741      0.084750   \n",
       "std    1.050599e+05      0.173110      0.251441      5.035504      0.105657   \n",
       "min    1.338600e+04      0.000000      0.000019    -49.307000      0.000000   \n",
       "25%    1.744360e+05      0.456000      0.472000    -10.006000      0.035900   \n",
       "50%    2.128130e+05      0.581000      0.685000     -7.012000      0.049000   \n",
       "75%    2.614260e+05      0.695000      0.854000     -5.000000      0.084500   \n",
       "max    5.237295e+06      0.985000      1.000000      4.532000      0.965000   \n",
       "\n",
       "       acousticness  instrumentalness      liveness       valence  \n",
       "count  79800.000000      79800.000000  79800.000000  79800.000000  \n",
       "mean       0.314979          0.157319      0.213313      0.474267  \n",
       "std        0.332512          0.310792      0.190075      0.259010  \n",
       "min        0.000000          0.000000      0.000000      0.000000  \n",
       "25%        0.017000          0.000000      0.097900      0.261000  \n",
       "50%        0.169000          0.000041      0.132000      0.464000  \n",
       "75%        0.598000          0.050500      0.273000      0.684000  \n",
       "max        0.996000          1.000000      1.000000      0.995000  "
      ]
     },
     "execution_count": 3223,
     "metadata": {},
     "output_type": "execute_result"
    }
   ],
   "source": [
    "#Repetição proposital para a continuidade da análise\n",
    "df[['duration_ms','danceability', 'energy', 'loudness', 'speechiness', 'acousticness', 'instrumentalness', 'liveness', 'valence']].describe()"
   ]
  },
  {
   "cell_type": "markdown",
   "metadata": {},
   "source": [
    "&ensp; A partir da tabela acima, pode-se observar também a alta dispersão dos dados nas colunas ``acousticness`` e ``instrumentalness``, de modo que a média *per se* não os representa de maneira tão eficaz. Logo, espera-se que nosso banco de dados contenha dados bastante variados no que tange à essas variáveis. Por sua vez, isso pode ser verificado a partir dos dois box plots abaixo."
   ]
  },
  {
   "cell_type": "code",
   "execution_count": 3224,
   "metadata": {},
   "outputs": [
    {
     "data": {
      "text/plain": [
       "(0.0, 1.0)"
      ]
     },
     "execution_count": 3224,
     "metadata": {},
     "output_type": "execute_result"
    },
    {
     "data": {
      "image/png": "[encoded data removed]",
      "text/plain": [
       "<Figure size 1400x600 with 2 Axes>"
      ]
     },
     "metadata": {},
     "output_type": "display_data"
    }
   ],
   "source": [
    "fig, axs = plt.subplots(1, 2, figsize=(14,6))\n",
    "\n",
    "axs[0].boxplot(df['acousticness'], showfliers=False)\n",
    "axs[0].set_title('Box Plot dos Valores de Acouscticness Sem Outliers')\n",
    "axs[0].set_ylim(0, 1)  # Definindo a escala de 0 a 1\n",
    "\n",
    "axs[1].boxplot(df['instrumentalness'], showfliers=False)\n",
    "axs[1].set_title('Box Plot dos Valores de Instrumentalness Sem Outliers')\n",
    "axs[1].set_ylim(0, 1)"
   ]
  },
  {
   "cell_type": "markdown",
   "metadata": {},
   "source": [
    "OBS: Para tratarmos da estrutura das colunas, optou-se por retirar os outliers da visualização"
   ]
  },
  {
   "cell_type": "markdown",
   "metadata": {},
   "source": [
    "&ensp; Com a visualização, constata-se também uma constrastante diferença entre os dois dados não obstante a similaridade em desvio padrão. Enquanto, ``acousctiness`` contém uma grande variedade de valores, ``instrumentalness`` contém uma variedade baixíssima com um intervalo interquartil que vai de 0 à 0.050500. Isso revela que a maioria das faixas do banco de dados estão previstas para não conter vocais, mas serem acústicas. Deste modo, um risco de nosso algoritmo ao levar ``instrumentalness`` em consideração é produzir um ``overfit`` para faixas sem vocais, sem capacidade de generalização em faixas que os contém."
   ]
  },
  {
   "cell_type": "markdown",
   "metadata": {},
   "source": [
    "&ensp; Outro padrão relevante em nosso banco de dados é a averiguação das modas nas variáveis categóricas. Para tanto, utiliza-se ``mode()``."
   ]
  },
  {
   "cell_type": "code",
   "execution_count": 3225,
   "metadata": {},
   "outputs": [
    {
     "name": "stdout",
     "output_type": "stream",
     "text": [
      "O(s) artista(s) ou banda mais frequente em nosso banco de dados é: The Beatles com 194 ocorrências\n",
      "O albúm mais frequente em nosso banco de dados é: Alternative Christmas 2022 com 131 ocorrências\n",
      "A tonalidade mais frequente em nosso banco de dados é: 7 com 9261 ocorrências\n",
      "A chave de compasso mais frequente em nosso banco de dados é: 4 com 71202 ocorrências\n",
      "O gênero de música mais frequente em nosso banco de dados é: progressive-house com 738 ocorrências\n",
      "A maioria das músicas não contém conteúdo explícito\n"
     ]
    }
   ],
   "source": [
    "artist_mode = df['artists'].mode()[0]\n",
    "album_mode = df['album_name'].mode()[0]\n",
    "key_mode = df['key'].mode()[0]\n",
    "genre_mode = df['track_genre'].mode()[0]\n",
    "signature_mode = df['time_signature'].mode()[0]\n",
    "\n",
    "print(f'O(s) artista(s) ou banda mais frequente em nosso banco de dados é: {artist_mode} com {df.loc[df['artists'] == artist_mode].shape[0]} ocorrências')\n",
    "print(f'O albúm mais frequente em nosso banco de dados é: {album_mode} com {df.loc[df['album_name'] == album_mode].shape[0]} ocorrências')\n",
    "print(f'A tonalidade mais frequente em nosso banco de dados é: {key_mode} com {df.loc[df['key'] == key_mode].shape[0]} ocorrências')\n",
    "print(f'A chave de compasso mais frequente em nosso banco de dados é: {signature_mode} com {df.loc[df['time_signature'] == signature_mode].shape[0]} ocorrências')\n",
    "print(f'O gênero de música mais frequente em nosso banco de dados é: {genre_mode} com {df.loc[df['track_genre'] == genre_mode].shape[0]} ocorrências')\n",
    "if df['explicit'].mode()[0]:\n",
    "    print('A maioria das músicas possui conteúdo explícito')  \n",
    "else:\n",
    "    print('A maioria das músicas não contém conteúdo explícito')"
   ]
  },
  {
   "cell_type": "markdown",
   "metadata": {},
   "source": [
    "&ensp; A análise da moda explicita algumas características esperadas e não esperadas de nosso banco de dados. Por exemplo, The Beatles ser a banda mais frequente não é incomum e esperava-se que a maioria das músicas não contivesse conteúdo explícito; entretanto, é incomum observar que o gênero mais comum no banco não é algo atual como o *pop* ou o *k-pop*, mas sim, *progressive-house*, um subgênero do House-Music da década de 1990 (WIKIPEDIA, 2003)."
   ]
  },
  {
   "cell_type": "markdown",
   "metadata": {},
   "source": [
    "&ensp; Com a finalidade de aprofundar nossas análises, poderíamos visualizar a quantidade de ocorrências para cada valor único das colunas categóricas. Entretanto, sabe-se que a grande quantidade de valores únicos em artista e álbum afetaria a qualidade das análises. Por essa razão, produz-se isto somente para colunas com menos valores únicos como ``time_signature`` e ``key``."
   ]
  },
  {
   "cell_type": "code",
   "execution_count": 3226,
   "metadata": {},
   "outputs": [
    {
     "data": {
      "text/plain": [
       "Text(0.5, 1.0, 'Quantidade de Ocorrências por Tonalidade')"
      ]
     },
     "execution_count": 3226,
     "metadata": {},
     "output_type": "execute_result"
    },
    {
     "data": {
      "image/png": "[encoded data removed]",
      "text/plain": [
       "<Figure size 1200x1200 with 2 Axes>"
      ]
     },
     "metadata": {},
     "output_type": "display_data"
    }
   ],
   "source": [
    "fig, axs = plt.subplots(2,1,figsize=(12,12))\n",
    "\n",
    "time_signature_valores = df['time_signature'].value_counts()\n",
    "key_valores = df['key'].value_counts()\n",
    "\n",
    "\n",
    "axs[0].bar(time_signature_valores.index, time_signature_valores.values, color=['red', 'blue', 'blue'])\n",
    "\n",
    "axs[0].set_xlabel('Compasso')\n",
    "axs[0].set_ylabel('Contagem de Ocorrências')\n",
    "axs[0].set_title('Quantidade de Ocorrências por Compasso')\n",
    "\n",
    "axs[1].bar(key_valores.index, key_valores.values)\n",
    "axs[1].set_xlabel('Tonalidade')\n",
    "axs[1].set_ylabel('Contagem de Ocorrências')\n",
    "axs[1].set_title('Quantidade de Ocorrências por Tonalidade')"
   ]
  },
  {
   "cell_type": "markdown",
   "metadata": {},
   "source": [
    "&ensp; A partir da leitura do primeiro gráfico acima, pode-se observar que nosso banco de dados contém muita mais faixas pertencentes ao compasso 4/4 do que todos os outros somados. Desta forma, questiona-se a relevância dessa coluna para o nosso banco, pois trata-se de uma coluna de baixíssima variância. Enquanto isso, a tonalidade das músicas varia bastante de acordo com sua classe de altura. Os dados estão bem distribuídos neste caso, mas são praticamente iguais naqueles."
   ]
  },
  {
   "cell_type": "markdown",
   "metadata": {},
   "source": [
    "#### 2.3.1.1 Correlação entre variáveis"
   ]
  },
  {
   "cell_type": "markdown",
   "metadata": {},
   "source": [
    "&ensp; Outra característica relevante a se pontuar acerca das variáveis é sua correlação entre si. Para isso, pode-se utilizar o método ``corr()`` nas colunas numéricas."
   ]
  },
  {
   "cell_type": "code",
   "execution_count": 3227,
   "metadata": {},
   "outputs": [
    {
     "data": {
      "image/png": "[encoded data removed]",
      "text/plain": [
       "<Figure size 1000x800 with 2 Axes>"
      ]
     },
     "metadata": {},
     "output_type": "display_data"
    }
   ],
   "source": [
    "corr = df.select_dtypes(include='number').corr()\n",
    "# Criando uma máscara para ocultar a parte superior da matriz\n",
    "mask = np.triu(np.ones_like(corr, dtype=bool))\n",
    "\n",
    "# Criando o heatmap\n",
    "plt.figure(figsize=(10, 8))  # Ajustando o tamanho do gráfico\n",
    "sns.heatmap(corr, annot=True, mask=mask, cmap='coolwarm', vmin=-1, vmax=1, fmt='.2f')\n",
    "\n",
    "# Exibindo o gráfico\n",
    "plt.title('Heatmap da Matriz de Correlação entre as Variáveis')\n",
    "plt.show()"
   ]
  },
  {
   "cell_type": "markdown",
   "metadata": {},
   "source": [
    "&ensp; O mapa de calor acima demonstra a correlação entre as variáveis, sendo que esta varia de -1 (correlação negativa forte) à 1 (correção positiva forte). Atentando-se à ele, pode-se verificar características esperadas e inesperadas.\n",
    "\n",
    "&ensp; Entre as esperadas está a relação inversa entre a energia da música e a acústica. Isso, pois, músicas acústicas em oposição à músicas eletrônicas tendem a ser mais calmas. Inclusive, artistas costumam criar versões acústicas de suas músicas que são menos intensas. Além desta está a correlação razoável entre a positividade de uma música com sua \"dançabilidade\". Estes dois aspectos eram esperados\n",
    "\n",
    "&ensp; No entanto, é uma surpresa que nenhuma das colunas númericas estabeleçam sequer uma correlação razoável com a popularidade. Isso indica que a popularidade de uma música pode se dar por aspectos completamente distintos, não se restringindo a apenas uma característica como a positividade ou a \"dançabilidade\". No mais, a correlação forte que era esperada entre ``energy`` e ``loudness`` foi uma surpresa. Não porque o não se esperava isso na realidade, já que espera-se que músicas mais altas sejam mais intensas. Mas sim, pois havíamos concluído previamente que os dados em ``loudness`` estavam incorretos. A partir dessa observação, porém, questiona-se se esse erro não se deu em um padrão (como adicionar um sinal negativo em todas as linhas).\n"
   ]
  },
  {
   "cell_type": "markdown",
   "metadata": {},
   "source": [
    "### 2.3.3. Conclusão"
   ]
  },
  {
   "cell_type": "markdown",
   "metadata": {},
   "source": [
    "&ensp; O processo de exploração inicial dos dados revelou algumas características relevantes do nosso banco de dados, dentre os quais alguns serão tratados posteriormente neste notebook. Por exemplo, revelou-se a coluna ``track_id`` que não agrega valor ao nosso banco de dados. Ademias, viu-se a coluna ``key``, cuja baixa variância parece apontar para a sua deleção do *DataFrame*. Outros aspectos como a duração média das músicas, a banda e o gênero musical mais frequentes e a correlação entre variáveis também foram abordados. A soma desses fatores contribuíram para o levantamento das seguintes hipóteses:\n",
    "\n",
    "1. Apesar de nenhuma variável númerica da música, por si, indicar a popularidade da música, sugere-se que uma combinação de variáveis o faça. Portanto, hipotetiza-se que um conjunto de variáveis feliz, como alta ``valence``, alta ``energy`` e alta ``danceability`` contenha mais músicas populares do que não populares;\n",
    "\n",
    "2. Espera-se que o autor(a) da música influencie mais na popularidade da música do que suas características musicais. Portanto, hipotetiza-se que a maioria das músicas do The Beatles sejam populares;\n",
    "\n",
    "3. Dado que das variáveis númericas expostas, nenhuma é correlacionada com a popularidade, talvez a familiaridade o seja. Portanto, hipotetiza-se que os artistas mais recorrentes no banco de dados tenham mais músicas populares do que o contrário.\n",
    "\n",
    "&ensp; Infelizmente, essas hipóteses só poderão ser averiguadas após o processo de limpeza de dados. Desta forma, concluí-se aqui a seção de Exploração Inicial dos Dados."
   ]
  },
  {
   "cell_type": "markdown",
   "metadata": {},
   "source": [
    "# 3. Processo 2: Limpeza de Dados\n",
    "\n",
    "Abaixo está exposto o entendimento inicial dos dados e a subsequente limpeza."
   ]
  },
  {
   "cell_type": "markdown",
   "metadata": {},
   "source": [
    "## 3.1. Tratamento de valores nulos"
   ]
  },
  {
   "cell_type": "markdown",
   "metadata": {},
   "source": [
    "&ensp; O primeiro passo do processo de limpeza é compreender o que fazer com os valores nulos. Sendo assim, é preciso verificar primeiro se há valores nulos no banco de dados. Para tanto, utiliza-se ``.info()``"
   ]
  },
  {
   "cell_type": "code",
   "execution_count": 3228,
   "metadata": {},
   "outputs": [
    {
     "name": "stdout",
     "output_type": "stream",
     "text": [
      "<class 'pandas.core.frame.DataFrame'>\n",
      "Index: 79800 entries, 41996 to 15795\n",
      "Data columns (total 20 columns):\n",
      " #   Column             Non-Null Count  Dtype  \n",
      "---  ------             --------------  -----  \n",
      " 0   track_id           79800 non-null  object \n",
      " 1   artists            79800 non-null  object \n",
      " 2   album_name         79800 non-null  object \n",
      " 3   track_name         79800 non-null  object \n",
      " 4   duration_ms        79800 non-null  int64  \n",
      " 5   explicit           79800 non-null  bool   \n",
      " 6   danceability       79800 non-null  float64\n",
      " 7   energy             79800 non-null  float64\n",
      " 8   key                79800 non-null  int64  \n",
      " 9   loudness           79800 non-null  float64\n",
      " 10  mode               79800 non-null  int64  \n",
      " 11  speechiness        79800 non-null  float64\n",
      " 12  acousticness       79800 non-null  float64\n",
      " 13  instrumentalness   79800 non-null  float64\n",
      " 14  liveness           79800 non-null  float64\n",
      " 15  valence            79800 non-null  float64\n",
      " 16  tempo              79800 non-null  float64\n",
      " 17  time_signature     79800 non-null  int64  \n",
      " 18  track_genre        79800 non-null  object \n",
      " 19  popularity_target  79800 non-null  int64  \n",
      "dtypes: bool(1), float64(9), int64(5), object(5)\n",
      "memory usage: 12.3+ MB\n"
     ]
    }
   ],
   "source": [
    "df.info()"
   ]
  },
  {
   "cell_type": "code",
   "execution_count": 3229,
   "metadata": {},
   "outputs": [
    {
     "data": {
      "text/plain": [
       "79800"
      ]
     },
     "execution_count": 3229,
     "metadata": {},
     "output_type": "execute_result"
    }
   ],
   "source": [
    "df.shape[0]"
   ]
  },
  {
   "cell_type": "markdown",
   "metadata": {},
   "source": [
    "&ensp; Como havíamos verificado no processo de exploração dos dados, dado que o número de linhas é igual ao número de linhas não nulas para todas as colunas, não há valores nulos e esse processo da limpeza pode ser pulado."
   ]
  },
  {
   "cell_type": "markdown",
   "metadata": {},
   "source": [
    "## 3.2. Valores Duplicados"
   ]
  },
  {
   "cell_type": "markdown",
   "metadata": {},
   "source": [
    "&ensp; O segundo passo do processo de limpeza é a retirada de linhas duplicadas"
   ]
  },
  {
   "cell_type": "markdown",
   "metadata": {},
   "source": [
    "&ensp; Pode-se verificar a quantidade de linhas duplicadas utilizando o método  ``duplicated()`` associado ao método ``value_counts()``"
   ]
  },
  {
   "cell_type": "code",
   "execution_count": 3230,
   "metadata": {},
   "outputs": [
    {
     "data": {
      "text/plain": [
       "False    79569\n",
       "True       231\n",
       "Name: count, dtype: int64"
      ]
     },
     "execution_count": 3230,
     "metadata": {},
     "output_type": "execute_result"
    }
   ],
   "source": [
    "df.duplicated().value_counts()"
   ]
  },
  {
   "cell_type": "markdown",
   "metadata": {},
   "source": [
    "&ensp; Este método revelou 231 duplicatas. Estas são ocorrências perfeitamente iguais no banco de dados que portanto devem ser apagadas. Abaixo, explicita-se esse processo."
   ]
  },
  {
   "cell_type": "code",
   "execution_count": 3231,
   "metadata": {},
   "outputs": [],
   "source": [
    "df = df.drop_duplicates(keep='first')"
   ]
  },
  {
   "cell_type": "markdown",
   "metadata": {},
   "source": [
    "&ensp; Verifica-se abaixo se o método realmente funcionou."
   ]
  },
  {
   "cell_type": "code",
   "execution_count": 3232,
   "metadata": {},
   "outputs": [
    {
     "data": {
      "text/plain": [
       "False    79569\n",
       "Name: count, dtype: int64"
      ]
     },
     "execution_count": 3232,
     "metadata": {},
     "output_type": "execute_result"
    }
   ],
   "source": [
    "df.duplicated().value_counts()"
   ]
  },
  {
   "cell_type": "markdown",
   "metadata": {},
   "source": [
    "### 3.2.1. Duplicatas Parciais"
   ]
  },
  {
   "cell_type": "markdown",
   "metadata": {},
   "source": [
    "&ensp; A coluna ``track_id`` é hasheada e sendo assim, funciona como uma senha atrapalhando a generalização do modelo, pois contém muitos valores únicos."
   ]
  },
  {
   "cell_type": "code",
   "execution_count": 3233,
   "metadata": {},
   "outputs": [
    {
     "data": {
      "text/plain": [
       "66720"
      ]
     },
     "execution_count": 3233,
     "metadata": {},
     "output_type": "execute_result"
    }
   ],
   "source": [
    "df['track_id'].nunique()"
   ]
  },
  {
   "cell_type": "markdown",
   "metadata": {},
   "source": [
    "&ensp; Portanto, abaixo essa coluna é retirada para verificação de duplicatas em outras colunas."
   ]
  },
  {
   "cell_type": "code",
   "execution_count": 3234,
   "metadata": {},
   "outputs": [],
   "source": [
    "df.drop(columns=['track_id'], inplace=True)"
   ]
  },
  {
   "cell_type": "code",
   "execution_count": 3235,
   "metadata": {},
   "outputs": [
    {
     "data": {
      "text/plain": [
       "False    79432\n",
       "True       137\n",
       "Name: count, dtype: int64"
      ]
     },
     "execution_count": 3235,
     "metadata": {},
     "output_type": "execute_result"
    }
   ],
   "source": [
    "df.duplicated().value_counts()"
   ]
  },
  {
   "cell_type": "markdown",
   "metadata": {},
   "source": [
    "&ensp; Ao retirar a coluna ``track_id``, encontra-se outras 137 duplicatas. Estas também devem ser apagadas."
   ]
  },
  {
   "cell_type": "code",
   "execution_count": 3236,
   "metadata": {},
   "outputs": [],
   "source": [
    "df = df.drop_duplicates(keep='first')"
   ]
  },
  {
   "cell_type": "markdown",
   "metadata": {},
   "source": [
    "&ensp; Verifica-se abaixo se o método realmente funcionou."
   ]
  },
  {
   "cell_type": "code",
   "execution_count": 3237,
   "metadata": {},
   "outputs": [
    {
     "data": {
      "text/plain": [
       "False    79432\n",
       "Name: count, dtype: int64"
      ]
     },
     "execution_count": 3237,
     "metadata": {},
     "output_type": "execute_result"
    }
   ],
   "source": [
    "df.duplicated().value_counts()"
   ]
  },
  {
   "cell_type": "markdown",
   "metadata": {},
   "source": [
    "### 3.2.1.1. Duplicatas Musicais"
   ]
  },
  {
   "cell_type": "markdown",
   "metadata": {},
   "source": [
    "&ensp; Mais do que duplicatas perfeitas, no contexto deste projeto, podem-se considerar duplicatas músicas que são completamente iguais, mas que apenas o álbum ou o gênero se modifica. Abaixo, procura-se dados assim e remove-se as duplicatas."
   ]
  },
  {
   "cell_type": "code",
   "execution_count": 3238,
   "metadata": {},
   "outputs": [],
   "source": [
    "df_no_genre = df.drop(columns=['track_genre']).copy()"
   ]
  },
  {
   "cell_type": "code",
   "execution_count": 3239,
   "metadata": {},
   "outputs": [],
   "source": [
    "duplicates = df_no_genre.duplicated(keep='first')"
   ]
  },
  {
   "cell_type": "code",
   "execution_count": 3240,
   "metadata": {},
   "outputs": [
    {
     "data": {
      "text/plain": [
       "False    66616\n",
       "True     12816\n",
       "Name: count, dtype: int64"
      ]
     },
     "execution_count": 3240,
     "metadata": {},
     "output_type": "execute_result"
    }
   ],
   "source": [
    "duplicates.value_counts()"
   ]
  },
  {
   "cell_type": "code",
   "execution_count": 3241,
   "metadata": {},
   "outputs": [],
   "source": [
    "df = df[~duplicates]"
   ]
  },
  {
   "cell_type": "markdown",
   "metadata": {},
   "source": [
    "&ensp; O mesmo é feito para o caso do álbum."
   ]
  },
  {
   "cell_type": "code",
   "execution_count": 3242,
   "metadata": {},
   "outputs": [],
   "source": [
    "df_no_album = df.drop(columns=['album_name'])"
   ]
  },
  {
   "cell_type": "code",
   "execution_count": 3243,
   "metadata": {},
   "outputs": [],
   "source": [
    "duplicates_album = df_no_album.duplicated(keep='first')"
   ]
  },
  {
   "cell_type": "code",
   "execution_count": 3244,
   "metadata": {},
   "outputs": [
    {
     "data": {
      "text/plain": [
       "False    63615\n",
       "True      3001\n",
       "Name: count, dtype: int64"
      ]
     },
     "execution_count": 3244,
     "metadata": {},
     "output_type": "execute_result"
    }
   ],
   "source": [
    "duplicates_album.value_counts()"
   ]
  },
  {
   "cell_type": "code",
   "execution_count": 3245,
   "metadata": {},
   "outputs": [],
   "source": [
    "df = df[~duplicates_album]"
   ]
  },
  {
   "cell_type": "code",
   "execution_count": 3246,
   "metadata": {},
   "outputs": [
    {
     "data": {
      "text/plain": [
       "63615"
      ]
     },
     "execution_count": 3246,
     "metadata": {},
     "output_type": "execute_result"
    }
   ],
   "source": [
    "df.shape[0]"
   ]
  },
  {
   "cell_type": "markdown",
   "metadata": {},
   "source": [
    "&ensp; A diferença entre o número original de dados e os dados sem as duplicatas sejam perfeitas ou parciais é ``79800 - 63615 = 16485`` ocorrências. Apesar de representar uma grande redução no número de dados, espera-se que esse procedimento melhore significativamente o desempenho do modelo. Porém, para se ter certeza disso, checa-se o balanceamento de classes novamente"
   ]
  },
  {
   "cell_type": "code",
   "execution_count": 3247,
   "metadata": {},
   "outputs": [
    {
     "data": {
      "image/png": "[encoded data removed]",
      "text/plain": [
       "<Figure size 800x800 with 1 Axes>"
      ]
     },
     "metadata": {},
     "output_type": "display_data"
    }
   ],
   "source": [
    "# Contando os valores\n",
    "sizes = df['popularity_target'].value_counts()\n",
    "labels = df['popularity_target'].unique()\n",
    "\n",
    "# Criando o gráfico de pizza\n",
    "plt.figure(figsize=(8, 8))\n",
    "plt.pie(sizes, labels=labels, autopct='%1.1f%%', startangle=90, colors=['red', 'b'])\n",
    "\n",
    "# Exibindo o gráfico\n",
    "plt.title('Distribuição de Popularidade')\n",
    "plt.show()"
   ]
  },
  {
   "cell_type": "markdown",
   "metadata": {},
   "source": [
    "&ensp; Após a limpeza de duplicatas, verificou-se ainda maior balanceamento entre as classes."
   ]
  },
  {
   "cell_type": "markdown",
   "metadata": {},
   "source": [
    "## 3.3. Tratamento de Outliers"
   ]
  },
  {
   "cell_type": "markdown",
   "metadata": {},
   "source": [
    "&ensp; O terceiro passo do processo de limpeza é o tratamento de outliers. Outliers são valores fora do padrão nos dados. Esses podem ser valores fora da faixa de valores permitida ou esperada."
   ]
  },
  {
   "cell_type": "markdown",
   "metadata": {},
   "source": [
    "### 3.3.1. Valores Fora da Faixa de Valores Permitida"
   ]
  },
  {
   "cell_type": "markdown",
   "metadata": {},
   "source": [
    "&ensp; As colunas ``danceability``, ``energy``, ``acousticness``, ``instrumentalness``, ``liveness`` e ``valence`` estão normalizadas entre 0 e 1. Abaixo, verifica-se se este é o caso para todas as linhas."
   ]
  },
  {
   "cell_type": "code",
   "execution_count": 3248,
   "metadata": {},
   "outputs": [
    {
     "data": {
      "text/plain": [
       "danceability        0.000000\n",
       "energy              0.000019\n",
       "acousticness        0.000000\n",
       "instrumentalness    0.000000\n",
       "liveness            0.000000\n",
       "valence             0.000000\n",
       "dtype: float64"
      ]
     },
     "execution_count": 3248,
     "metadata": {},
     "output_type": "execute_result"
    }
   ],
   "source": [
    "df[['danceability', 'energy', 'acousticness', 'instrumentalness', 'liveness', 'valence']].min()\n"
   ]
  },
  {
   "cell_type": "code",
   "execution_count": 3249,
   "metadata": {},
   "outputs": [
    {
     "data": {
      "text/plain": [
       "danceability        0.985\n",
       "energy              1.000\n",
       "acousticness        0.996\n",
       "instrumentalness    1.000\n",
       "liveness            1.000\n",
       "valence             0.995\n",
       "dtype: float64"
      ]
     },
     "execution_count": 3249,
     "metadata": {},
     "output_type": "execute_result"
    }
   ],
   "source": [
    "df[['danceability', 'energy', 'acousticness', 'instrumentalness', 'liveness', 'valence']].max()"
   ]
  },
  {
   "cell_type": "markdown",
   "metadata": {},
   "source": [
    "&ensp; A partir da verificação de máximo e mínimo, observa-se que essas colunas estão devidamente codificadas."
   ]
  },
  {
   "cell_type": "markdown",
   "metadata": {},
   "source": [
    "&ensp; Porém, outras colunas também têm faixas específicas.\n",
    "- ``time_signature``: valores inteiros maiores que 1 e menores que 7\n",
    "- ``key``: valores inteiros de 0 a 11 incluído\n",
    "- ``loudness``: valores maiores que 0 e menores que 140\n",
    "- ``tempo``: valores maiores que 0\n",
    "- ``duration_ms``: valores maiores que 0\n",
    "&ensp; Verifica-se, abaixo, essas colunas"
   ]
  },
  {
   "cell_type": "markdown",
   "metadata": {},
   "source": [
    "#### 3.3.1.1. Time Signature"
   ]
  },
  {
   "cell_type": "code",
   "execution_count": 3250,
   "metadata": {},
   "outputs": [
    {
     "data": {
      "text/plain": [
       "time_signature\n",
       "4    56394\n",
       "3     5403\n",
       "5     1117\n",
       "1      601\n",
       "0      100\n",
       "Name: count, dtype: int64"
      ]
     },
     "execution_count": 3250,
     "metadata": {},
     "output_type": "execute_result"
    }
   ],
   "source": [
    "df['time_signature'].value_counts()"
   ]
  },
  {
   "cell_type": "markdown",
   "metadata": {},
   "source": [
    "&ensp; No caso apresentado acima verificou-se 701 músicas estranhas (``time_signature`` = 0 ou ``time_signature``= 1). Isso, pois, a assinatura de tempo representa o compasso da música, sendo que não pode ser representada por 0. Ademais, 1 é um valor incomum, pois representa uma batida constante. Verifica-se abaixo quais são algumas delas."
   ]
  },
  {
   "cell_type": "code",
   "execution_count": 3251,
   "metadata": {},
   "outputs": [
    {
     "data": {
      "text/html": [
       "<div>\n",
       "<style scoped>\n",
       "    .dataframe tbody tr th:only-of-type {\n",
       "        vertical-align: middle;\n",
       "    }\n",
       "\n",
       "    .dataframe tbody tr th {\n",
       "        vertical-align: top;\n",
       "    }\n",
       "\n",
       "    .dataframe thead th {\n",
       "        text-align: right;\n",
       "    }\n",
       "</style>\n",
       "<table border=\"1\" class=\"dataframe\">\n",
       "  <thead>\n",
       "    <tr style=\"text-align: right;\">\n",
       "      <th></th>\n",
       "      <th>artists</th>\n",
       "      <th>album_name</th>\n",
       "      <th>track_name</th>\n",
       "      <th>duration_ms</th>\n",
       "      <th>explicit</th>\n",
       "      <th>danceability</th>\n",
       "      <th>energy</th>\n",
       "      <th>key</th>\n",
       "      <th>loudness</th>\n",
       "      <th>mode</th>\n",
       "      <th>speechiness</th>\n",
       "      <th>acousticness</th>\n",
       "      <th>instrumentalness</th>\n",
       "      <th>liveness</th>\n",
       "      <th>valence</th>\n",
       "      <th>tempo</th>\n",
       "      <th>time_signature</th>\n",
       "      <th>track_genre</th>\n",
       "      <th>popularity_target</th>\n",
       "    </tr>\n",
       "    <tr>\n",
       "      <th>track_unique_id</th>\n",
       "      <th></th>\n",
       "      <th></th>\n",
       "      <th></th>\n",
       "      <th></th>\n",
       "      <th></th>\n",
       "      <th></th>\n",
       "      <th></th>\n",
       "      <th></th>\n",
       "      <th></th>\n",
       "      <th></th>\n",
       "      <th></th>\n",
       "      <th></th>\n",
       "      <th></th>\n",
       "      <th></th>\n",
       "      <th></th>\n",
       "      <th></th>\n",
       "      <th></th>\n",
       "      <th></th>\n",
       "      <th></th>\n",
       "    </tr>\n",
       "  </thead>\n",
       "  <tbody>\n",
       "    <tr>\n",
       "      <th>9313</th>\n",
       "      <td>ConeCrewDiretoria</td>\n",
       "      <td>Com os Neurônios Evoluidos</td>\n",
       "      <td>O Mundo Dá Voltas</td>\n",
       "      <td>279806</td>\n",
       "      <td>True</td>\n",
       "      <td>0.403</td>\n",
       "      <td>0.706</td>\n",
       "      <td>10</td>\n",
       "      <td>-6.046</td>\n",
       "      <td>0</td>\n",
       "      <td>0.3550</td>\n",
       "      <td>0.676000</td>\n",
       "      <td>0.00000</td>\n",
       "      <td>0.460</td>\n",
       "      <td>0.2700</td>\n",
       "      <td>77.224</td>\n",
       "      <td>1</td>\n",
       "      <td>brazil</td>\n",
       "      <td>1</td>\n",
       "    </tr>\n",
       "    <tr>\n",
       "      <th>42304</th>\n",
       "      <td>Fluoride</td>\n",
       "      <td>Disentanglement</td>\n",
       "      <td>Still Time</td>\n",
       "      <td>63769</td>\n",
       "      <td>False</td>\n",
       "      <td>0.220</td>\n",
       "      <td>0.985</td>\n",
       "      <td>8</td>\n",
       "      <td>-3.960</td>\n",
       "      <td>1</td>\n",
       "      <td>0.1090</td>\n",
       "      <td>0.000001</td>\n",
       "      <td>0.82200</td>\n",
       "      <td>0.353</td>\n",
       "      <td>0.0374</td>\n",
       "      <td>96.081</td>\n",
       "      <td>1</td>\n",
       "      <td>grindcore</td>\n",
       "      <td>0</td>\n",
       "    </tr>\n",
       "    <tr>\n",
       "      <th>98348</th>\n",
       "      <td>Laura Osnes</td>\n",
       "      <td>Anything Goes (New Broadway Cast Recording)</td>\n",
       "      <td>Goodbye, Little Dream, Goodbye</td>\n",
       "      <td>143720</td>\n",
       "      <td>False</td>\n",
       "      <td>0.236</td>\n",
       "      <td>0.145</td>\n",
       "      <td>5</td>\n",
       "      <td>-14.257</td>\n",
       "      <td>1</td>\n",
       "      <td>0.0409</td>\n",
       "      <td>0.946000</td>\n",
       "      <td>0.00509</td>\n",
       "      <td>0.155</td>\n",
       "      <td>0.0714</td>\n",
       "      <td>91.950</td>\n",
       "      <td>1</td>\n",
       "      <td>show-tunes</td>\n",
       "      <td>0</td>\n",
       "    </tr>\n",
       "    <tr>\n",
       "      <th>69478</th>\n",
       "      <td>Sadhu Kochu Kunju Upadesi</td>\n",
       "      <td>Aswasageethangal, Vol. 1 (Christian Devotional...</td>\n",
       "      <td>Ente Daivam Mahathwathin</td>\n",
       "      <td>397613</td>\n",
       "      <td>False</td>\n",
       "      <td>0.731</td>\n",
       "      <td>0.381</td>\n",
       "      <td>0</td>\n",
       "      <td>-7.261</td>\n",
       "      <td>1</td>\n",
       "      <td>0.0276</td>\n",
       "      <td>0.487000</td>\n",
       "      <td>0.00000</td>\n",
       "      <td>0.306</td>\n",
       "      <td>0.6040</td>\n",
       "      <td>113.039</td>\n",
       "      <td>1</td>\n",
       "      <td>malay</td>\n",
       "      <td>0</td>\n",
       "    </tr>\n",
       "    <tr>\n",
       "      <th>62949</th>\n",
       "      <td>Jack Jones</td>\n",
       "      <td>Fiesta temática 60s</td>\n",
       "      <td>Mistletoe And Holly</td>\n",
       "      <td>101826</td>\n",
       "      <td>False</td>\n",
       "      <td>0.451</td>\n",
       "      <td>0.566</td>\n",
       "      <td>6</td>\n",
       "      <td>-10.766</td>\n",
       "      <td>1</td>\n",
       "      <td>0.0382</td>\n",
       "      <td>0.697000</td>\n",
       "      <td>0.00000</td>\n",
       "      <td>0.119</td>\n",
       "      <td>0.8470</td>\n",
       "      <td>98.439</td>\n",
       "      <td>1</td>\n",
       "      <td>j-pop</td>\n",
       "      <td>0</td>\n",
       "    </tr>\n",
       "    <tr>\n",
       "      <th>...</th>\n",
       "      <td>...</td>\n",
       "      <td>...</td>\n",
       "      <td>...</td>\n",
       "      <td>...</td>\n",
       "      <td>...</td>\n",
       "      <td>...</td>\n",
       "      <td>...</td>\n",
       "      <td>...</td>\n",
       "      <td>...</td>\n",
       "      <td>...</td>\n",
       "      <td>...</td>\n",
       "      <td>...</td>\n",
       "      <td>...</td>\n",
       "      <td>...</td>\n",
       "      <td>...</td>\n",
       "      <td>...</td>\n",
       "      <td>...</td>\n",
       "      <td>...</td>\n",
       "      <td>...</td>\n",
       "    </tr>\n",
       "    <tr>\n",
       "      <th>4621</th>\n",
       "      <td>Biosphere</td>\n",
       "      <td>Angel's Flight</td>\n",
       "      <td>Angel's Flight</td>\n",
       "      <td>352357</td>\n",
       "      <td>False</td>\n",
       "      <td>0.521</td>\n",
       "      <td>0.280</td>\n",
       "      <td>1</td>\n",
       "      <td>-16.645</td>\n",
       "      <td>1</td>\n",
       "      <td>0.0362</td>\n",
       "      <td>0.946000</td>\n",
       "      <td>0.94300</td>\n",
       "      <td>0.112</td>\n",
       "      <td>0.3070</td>\n",
       "      <td>141.960</td>\n",
       "      <td>1</td>\n",
       "      <td>ambient</td>\n",
       "      <td>1</td>\n",
       "    </tr>\n",
       "    <tr>\n",
       "      <th>56570</th>\n",
       "      <td>Akanksha Bhandari</td>\n",
       "      <td>Raahi</td>\n",
       "      <td>Amma Puchdi</td>\n",
       "      <td>264444</td>\n",
       "      <td>False</td>\n",
       "      <td>0.531</td>\n",
       "      <td>0.399</td>\n",
       "      <td>11</td>\n",
       "      <td>-9.089</td>\n",
       "      <td>1</td>\n",
       "      <td>0.0294</td>\n",
       "      <td>0.704000</td>\n",
       "      <td>0.00000</td>\n",
       "      <td>0.115</td>\n",
       "      <td>0.2100</td>\n",
       "      <td>107.506</td>\n",
       "      <td>1</td>\n",
       "      <td>indie-pop</td>\n",
       "      <td>1</td>\n",
       "    </tr>\n",
       "    <tr>\n",
       "      <th>65545</th>\n",
       "      <td>Yuvan Shankar Raja;Sriram Parthasarathy</td>\n",
       "      <td>Thangameenkal (Original Motion Picture Soundtr...</td>\n",
       "      <td>Aanandha Yaazhai</td>\n",
       "      <td>217000</td>\n",
       "      <td>False</td>\n",
       "      <td>0.768</td>\n",
       "      <td>0.335</td>\n",
       "      <td>10</td>\n",
       "      <td>-8.132</td>\n",
       "      <td>1</td>\n",
       "      <td>0.0378</td>\n",
       "      <td>0.784000</td>\n",
       "      <td>0.00000</td>\n",
       "      <td>0.105</td>\n",
       "      <td>0.6500</td>\n",
       "      <td>120.011</td>\n",
       "      <td>1</td>\n",
       "      <td>k-pop</td>\n",
       "      <td>1</td>\n",
       "    </tr>\n",
       "    <tr>\n",
       "      <th>16364</th>\n",
       "      <td>Giacomo Puccini;Arioso Quartett Wien</td>\n",
       "      <td>Encores</td>\n",
       "      <td>Crisantemi</td>\n",
       "      <td>342893</td>\n",
       "      <td>False</td>\n",
       "      <td>0.150</td>\n",
       "      <td>0.106</td>\n",
       "      <td>6</td>\n",
       "      <td>-18.592</td>\n",
       "      <td>0</td>\n",
       "      <td>0.0426</td>\n",
       "      <td>0.842000</td>\n",
       "      <td>0.83500</td>\n",
       "      <td>0.111</td>\n",
       "      <td>0.0553</td>\n",
       "      <td>83.844</td>\n",
       "      <td>1</td>\n",
       "      <td>classical</td>\n",
       "      <td>0</td>\n",
       "    </tr>\n",
       "    <tr>\n",
       "      <th>59040</th>\n",
       "      <td>Porya Hatami</td>\n",
       "      <td>Kani</td>\n",
       "      <td>Restless</td>\n",
       "      <td>274524</td>\n",
       "      <td>False</td>\n",
       "      <td>0.145</td>\n",
       "      <td>0.277</td>\n",
       "      <td>1</td>\n",
       "      <td>-25.021</td>\n",
       "      <td>0</td>\n",
       "      <td>0.0644</td>\n",
       "      <td>0.962000</td>\n",
       "      <td>0.96000</td>\n",
       "      <td>0.949</td>\n",
       "      <td>0.1100</td>\n",
       "      <td>73.118</td>\n",
       "      <td>1</td>\n",
       "      <td>iranian</td>\n",
       "      <td>0</td>\n",
       "    </tr>\n",
       "  </tbody>\n",
       "</table>\n",
       "<p>601 rows × 19 columns</p>\n",
       "</div>"
      ],
      "text/plain": [
       "                                                 artists  \\\n",
       "track_unique_id                                            \n",
       "9313                                   ConeCrewDiretoria   \n",
       "42304                                           Fluoride   \n",
       "98348                                        Laura Osnes   \n",
       "69478                          Sadhu Kochu Kunju Upadesi   \n",
       "62949                                         Jack Jones   \n",
       "...                                                  ...   \n",
       "4621                                           Biosphere   \n",
       "56570                                  Akanksha Bhandari   \n",
       "65545            Yuvan Shankar Raja;Sriram Parthasarathy   \n",
       "16364               Giacomo Puccini;Arioso Quartett Wien   \n",
       "59040                                       Porya Hatami   \n",
       "\n",
       "                                                        album_name  \\\n",
       "track_unique_id                                                      \n",
       "9313                                    Com os Neurônios Evoluidos   \n",
       "42304                                              Disentanglement   \n",
       "98348                  Anything Goes (New Broadway Cast Recording)   \n",
       "69478            Aswasageethangal, Vol. 1 (Christian Devotional...   \n",
       "62949                                          Fiesta temática 60s   \n",
       "...                                                            ...   \n",
       "4621                                                Angel's Flight   \n",
       "56570                                                        Raahi   \n",
       "65545            Thangameenkal (Original Motion Picture Soundtr...   \n",
       "16364                                                      Encores   \n",
       "59040                                                         Kani   \n",
       "\n",
       "                                     track_name  duration_ms  explicit  \\\n",
       "track_unique_id                                                          \n",
       "9313                          O Mundo Dá Voltas       279806      True   \n",
       "42304                                Still Time        63769     False   \n",
       "98348            Goodbye, Little Dream, Goodbye       143720     False   \n",
       "69478                  Ente Daivam Mahathwathin       397613     False   \n",
       "62949                       Mistletoe And Holly       101826     False   \n",
       "...                                         ...          ...       ...   \n",
       "4621                             Angel's Flight       352357     False   \n",
       "56570                               Amma Puchdi       264444     False   \n",
       "65545                          Aanandha Yaazhai       217000     False   \n",
       "16364                                Crisantemi       342893     False   \n",
       "59040                                  Restless       274524     False   \n",
       "\n",
       "                 danceability  energy  key  loudness  mode  speechiness  \\\n",
       "track_unique_id                                                           \n",
       "9313                    0.403   0.706   10    -6.046     0       0.3550   \n",
       "42304                   0.220   0.985    8    -3.960     1       0.1090   \n",
       "98348                   0.236   0.145    5   -14.257     1       0.0409   \n",
       "69478                   0.731   0.381    0    -7.261     1       0.0276   \n",
       "62949                   0.451   0.566    6   -10.766     1       0.0382   \n",
       "...                       ...     ...  ...       ...   ...          ...   \n",
       "4621                    0.521   0.280    1   -16.645     1       0.0362   \n",
       "56570                   0.531   0.399   11    -9.089     1       0.0294   \n",
       "65545                   0.768   0.335   10    -8.132     1       0.0378   \n",
       "16364                   0.150   0.106    6   -18.592     0       0.0426   \n",
       "59040                   0.145   0.277    1   -25.021     0       0.0644   \n",
       "\n",
       "                 acousticness  instrumentalness  liveness  valence    tempo  \\\n",
       "track_unique_id                                                               \n",
       "9313                 0.676000           0.00000     0.460   0.2700   77.224   \n",
       "42304                0.000001           0.82200     0.353   0.0374   96.081   \n",
       "98348                0.946000           0.00509     0.155   0.0714   91.950   \n",
       "69478                0.487000           0.00000     0.306   0.6040  113.039   \n",
       "62949                0.697000           0.00000     0.119   0.8470   98.439   \n",
       "...                       ...               ...       ...      ...      ...   \n",
       "4621                 0.946000           0.94300     0.112   0.3070  141.960   \n",
       "56570                0.704000           0.00000     0.115   0.2100  107.506   \n",
       "65545                0.784000           0.00000     0.105   0.6500  120.011   \n",
       "16364                0.842000           0.83500     0.111   0.0553   83.844   \n",
       "59040                0.962000           0.96000     0.949   0.1100   73.118   \n",
       "\n",
       "                 time_signature track_genre  popularity_target  \n",
       "track_unique_id                                                 \n",
       "9313                          1      brazil                  1  \n",
       "42304                         1   grindcore                  0  \n",
       "98348                         1  show-tunes                  0  \n",
       "69478                         1       malay                  0  \n",
       "62949                         1       j-pop                  0  \n",
       "...                         ...         ...                ...  \n",
       "4621                          1     ambient                  1  \n",
       "56570                         1   indie-pop                  1  \n",
       "65545                         1       k-pop                  1  \n",
       "16364                         1   classical                  0  \n",
       "59040                         1     iranian                  0  \n",
       "\n",
       "[601 rows x 19 columns]"
      ]
     },
     "execution_count": 3251,
     "metadata": {},
     "output_type": "execute_result"
    }
   ],
   "source": [
    "df.loc[df['time_signature'] == df['time_signature'].isin([0,1])]"
   ]
  },
  {
   "cell_type": "markdown",
   "metadata": {},
   "source": [
    "&ensp; Algumas dessas músicas, como \"Goodbye, Little Dream, Goodbye\", \"Mistletoe And Holly\", e \"Ente Daivam Mahathwathin\" foram checadas e, apesar da falta de expertise musical do autor, pode-se verificar que elas foram incorretamente classificadas nestes casos.\n",
    "\n",
    "&ensp; Entretanto, optou-se por não descartá-las, já que suas outras variáveis permanecem intactas e são relevantes para o modelo preditivo. Em caso de classificação incorreta de ``time_signature``, optou-se por aderir à moda 4. Isso, pois, 4/4 é o compasso comum (DESCOMPLICANDO A MÚSICA, 2014). Isso é feito abaixo."
   ]
  },
  {
   "cell_type": "code",
   "execution_count": 3252,
   "metadata": {},
   "outputs": [],
   "source": [
    "df.loc[df['time_signature'].isin([0,1]), 'time_signature'] = df['time_signature'].mode()[0]"
   ]
  },
  {
   "cell_type": "markdown",
   "metadata": {},
   "source": [
    "#### 3.3.1.2. Key"
   ]
  },
  {
   "cell_type": "markdown",
   "metadata": {},
   "source": [
    "&ensp; Abaixo, observa-se se os valores da coluna ``key`` correspondem a faixa de valores permitida."
   ]
  },
  {
   "cell_type": "code",
   "execution_count": 3253,
   "metadata": {},
   "outputs": [
    {
     "data": {
      "text/plain": [
       "array([ 0,  1,  2,  3,  4,  5,  6,  7,  8,  9, 10, 11])"
      ]
     },
     "execution_count": 3253,
     "metadata": {},
     "output_type": "execute_result"
    }
   ],
   "source": [
    "df['key'].sort_values().unique()"
   ]
  },
  {
   "cell_type": "markdown",
   "metadata": {},
   "source": [
    "&ensp; Vê-se que a coluna key não contém outliers."
   ]
  },
  {
   "cell_type": "markdown",
   "metadata": {},
   "source": [
    "#### 3.3.1.3. Loudness"
   ]
  },
  {
   "cell_type": "markdown",
   "metadata": {},
   "source": [
    "&ensp; Em nosso *DataFrame*, a coluna ``loudness`` diz respeito ao nível geral de volume da faixa em decibéis (dB). Sendo assim, sabe-se que este valor deve ser maior do que 0 e menor que 140 dB dado o contexto humano e musical. Verifica-se abaixo se todos os valores desta coluna estão nesta faixa."
   ]
  },
  {
   "cell_type": "code",
   "execution_count": 3254,
   "metadata": {},
   "outputs": [
    {
     "name": "stdout",
     "output_type": "stream",
     "text": [
      "63573\n"
     ]
    }
   ],
   "source": [
    "incorrect_loudness = df.loc[df['loudness'] <= 0].shape[0] + df.loc[df['loudness'] > 140].shape[0]\n",
    "print(incorrect_loudness)"
   ]
  },
  {
   "cell_type": "markdown",
   "metadata": {},
   "source": [
    "&ensp; Há uma maioria esmagadora de valores fora desta faixa. Visualiza-se isto em um *pie plot* abaixo."
   ]
  },
  {
   "cell_type": "code",
   "execution_count": 3255,
   "metadata": {},
   "outputs": [
    {
     "data": {
      "text/plain": [
       "Text(0.5, 1.0, 'Pie Plot de Valores Corretos x Incorretos da Coluna Loudness')"
      ]
     },
     "execution_count": 3255,
     "metadata": {},
     "output_type": "execute_result"
    },
    {
     "data": {
      "image/png": "[encoded data removed]",
      "text/plain": [
       "<Figure size 1200x800 with 1 Axes>"
      ]
     },
     "metadata": {},
     "output_type": "display_data"
    }
   ],
   "source": [
    "plt.figure(figsize=(12,8))\n",
    "plt.pie([incorrect_loudness, df.shape[0] - incorrect_loudness], labels=['Incorreto', 'Correto'], autopct='%1.1f%%')\n",
    "plt.title('Pie Plot de Valores Corretos x Incorretos da Coluna Loudness')"
   ]
  },
  {
   "cell_type": "markdown",
   "metadata": {},
   "source": [
    "&ensp; Sendo assim, esta coluna será excluída do *DataFrame*."
   ]
  },
  {
   "cell_type": "code",
   "execution_count": 3256,
   "metadata": {},
   "outputs": [],
   "source": [
    "df.drop(columns=['loudness'], inplace=True)"
   ]
  },
  {
   "cell_type": "markdown",
   "metadata": {},
   "source": [
    "&ensp; Demonstra-se abaixo se o processo funcionou."
   ]
  },
  {
   "cell_type": "code",
   "execution_count": 3257,
   "metadata": {},
   "outputs": [
    {
     "data": {
      "text/html": [
       "<div>\n",
       "<style scoped>\n",
       "    .dataframe tbody tr th:only-of-type {\n",
       "        vertical-align: middle;\n",
       "    }\n",
       "\n",
       "    .dataframe tbody tr th {\n",
       "        vertical-align: top;\n",
       "    }\n",
       "\n",
       "    .dataframe thead th {\n",
       "        text-align: right;\n",
       "    }\n",
       "</style>\n",
       "<table border=\"1\" class=\"dataframe\">\n",
       "  <thead>\n",
       "    <tr style=\"text-align: right;\">\n",
       "      <th></th>\n",
       "      <th>artists</th>\n",
       "      <th>album_name</th>\n",
       "      <th>track_name</th>\n",
       "      <th>duration_ms</th>\n",
       "      <th>explicit</th>\n",
       "      <th>danceability</th>\n",
       "      <th>energy</th>\n",
       "      <th>key</th>\n",
       "      <th>mode</th>\n",
       "      <th>speechiness</th>\n",
       "      <th>acousticness</th>\n",
       "      <th>instrumentalness</th>\n",
       "      <th>liveness</th>\n",
       "      <th>valence</th>\n",
       "      <th>tempo</th>\n",
       "      <th>time_signature</th>\n",
       "      <th>track_genre</th>\n",
       "      <th>popularity_target</th>\n",
       "    </tr>\n",
       "    <tr>\n",
       "      <th>track_unique_id</th>\n",
       "      <th></th>\n",
       "      <th></th>\n",
       "      <th></th>\n",
       "      <th></th>\n",
       "      <th></th>\n",
       "      <th></th>\n",
       "      <th></th>\n",
       "      <th></th>\n",
       "      <th></th>\n",
       "      <th></th>\n",
       "      <th></th>\n",
       "      <th></th>\n",
       "      <th></th>\n",
       "      <th></th>\n",
       "      <th></th>\n",
       "      <th></th>\n",
       "      <th></th>\n",
       "      <th></th>\n",
       "    </tr>\n",
       "  </thead>\n",
       "  <tbody>\n",
       "    <tr>\n",
       "      <th>41996</th>\n",
       "      <td>Love and Rockets</td>\n",
       "      <td>Love and Rockets</td>\n",
       "      <td>Motorcycle</td>\n",
       "      <td>211533</td>\n",
       "      <td>False</td>\n",
       "      <td>0.305</td>\n",
       "      <td>0.8490</td>\n",
       "      <td>9</td>\n",
       "      <td>1</td>\n",
       "      <td>0.0549</td>\n",
       "      <td>0.000058</td>\n",
       "      <td>0.056700</td>\n",
       "      <td>0.4640</td>\n",
       "      <td>0.3200</td>\n",
       "      <td>141.793</td>\n",
       "      <td>4</td>\n",
       "      <td>goth</td>\n",
       "      <td>0</td>\n",
       "    </tr>\n",
       "    <tr>\n",
       "      <th>76471</th>\n",
       "      <td>Filippa Giordano</td>\n",
       "      <td>Filippa Giordano</td>\n",
       "      <td>Addio del passato - From \"La traviata\"</td>\n",
       "      <td>196000</td>\n",
       "      <td>False</td>\n",
       "      <td>0.287</td>\n",
       "      <td>0.1900</td>\n",
       "      <td>7</td>\n",
       "      <td>0</td>\n",
       "      <td>0.0370</td>\n",
       "      <td>0.930000</td>\n",
       "      <td>0.000356</td>\n",
       "      <td>0.0834</td>\n",
       "      <td>0.1330</td>\n",
       "      <td>83.685</td>\n",
       "      <td>4</td>\n",
       "      <td>opera</td>\n",
       "      <td>0</td>\n",
       "    </tr>\n",
       "    <tr>\n",
       "      <th>54809</th>\n",
       "      <td>Susumu Yokota</td>\n",
       "      <td>Symbol</td>\n",
       "      <td>Purple Rose Minuet</td>\n",
       "      <td>216506</td>\n",
       "      <td>False</td>\n",
       "      <td>0.583</td>\n",
       "      <td>0.5090</td>\n",
       "      <td>1</td>\n",
       "      <td>1</td>\n",
       "      <td>0.0362</td>\n",
       "      <td>0.777000</td>\n",
       "      <td>0.202000</td>\n",
       "      <td>0.1150</td>\n",
       "      <td>0.5440</td>\n",
       "      <td>90.459</td>\n",
       "      <td>3</td>\n",
       "      <td>idm</td>\n",
       "      <td>1</td>\n",
       "    </tr>\n",
       "    <tr>\n",
       "      <th>16326</th>\n",
       "      <td>Franz Liszt;YUNDI</td>\n",
       "      <td>Relajación y siestas</td>\n",
       "      <td>Liebeslied (Widmung), S. 566</td>\n",
       "      <td>218346</td>\n",
       "      <td>False</td>\n",
       "      <td>0.163</td>\n",
       "      <td>0.0368</td>\n",
       "      <td>8</td>\n",
       "      <td>1</td>\n",
       "      <td>0.0472</td>\n",
       "      <td>0.991000</td>\n",
       "      <td>0.899000</td>\n",
       "      <td>0.1070</td>\n",
       "      <td>0.0387</td>\n",
       "      <td>69.442</td>\n",
       "      <td>3</td>\n",
       "      <td>classical</td>\n",
       "      <td>0</td>\n",
       "    </tr>\n",
       "    <tr>\n",
       "      <th>109799</th>\n",
       "      <td>Scooter</td>\n",
       "      <td>Scooter Forever</td>\n",
       "      <td>The Darkside</td>\n",
       "      <td>173160</td>\n",
       "      <td>False</td>\n",
       "      <td>0.647</td>\n",
       "      <td>0.9210</td>\n",
       "      <td>2</td>\n",
       "      <td>1</td>\n",
       "      <td>0.1850</td>\n",
       "      <td>0.000939</td>\n",
       "      <td>0.371000</td>\n",
       "      <td>0.1310</td>\n",
       "      <td>0.1710</td>\n",
       "      <td>137.981</td>\n",
       "      <td>4</td>\n",
       "      <td>techno</td>\n",
       "      <td>0</td>\n",
       "    </tr>\n",
       "  </tbody>\n",
       "</table>\n",
       "</div>"
      ],
      "text/plain": [
       "                           artists            album_name  \\\n",
       "track_unique_id                                            \n",
       "41996             Love and Rockets      Love and Rockets   \n",
       "76471             Filippa Giordano      Filippa Giordano   \n",
       "54809                Susumu Yokota                Symbol   \n",
       "16326            Franz Liszt;YUNDI  Relajación y siestas   \n",
       "109799                     Scooter       Scooter Forever   \n",
       "\n",
       "                                             track_name  duration_ms  \\\n",
       "track_unique_id                                                        \n",
       "41996                                        Motorcycle       211533   \n",
       "76471            Addio del passato - From \"La traviata\"       196000   \n",
       "54809                                Purple Rose Minuet       216506   \n",
       "16326                      Liebeslied (Widmung), S. 566       218346   \n",
       "109799                                     The Darkside       173160   \n",
       "\n",
       "                 explicit  danceability  energy  key  mode  speechiness  \\\n",
       "track_unique_id                                                           \n",
       "41996               False         0.305  0.8490    9     1       0.0549   \n",
       "76471               False         0.287  0.1900    7     0       0.0370   \n",
       "54809               False         0.583  0.5090    1     1       0.0362   \n",
       "16326               False         0.163  0.0368    8     1       0.0472   \n",
       "109799              False         0.647  0.9210    2     1       0.1850   \n",
       "\n",
       "                 acousticness  instrumentalness  liveness  valence    tempo  \\\n",
       "track_unique_id                                                               \n",
       "41996                0.000058          0.056700    0.4640   0.3200  141.793   \n",
       "76471                0.930000          0.000356    0.0834   0.1330   83.685   \n",
       "54809                0.777000          0.202000    0.1150   0.5440   90.459   \n",
       "16326                0.991000          0.899000    0.1070   0.0387   69.442   \n",
       "109799               0.000939          0.371000    0.1310   0.1710  137.981   \n",
       "\n",
       "                 time_signature track_genre  popularity_target  \n",
       "track_unique_id                                                 \n",
       "41996                         4        goth                  0  \n",
       "76471                         4       opera                  0  \n",
       "54809                         3         idm                  1  \n",
       "16326                         3   classical                  0  \n",
       "109799                        4      techno                  0  "
      ]
     },
     "execution_count": 3257,
     "metadata": {},
     "output_type": "execute_result"
    }
   ],
   "source": [
    "df.head()"
   ]
  },
  {
   "cell_type": "markdown",
   "metadata": {},
   "source": [
    "&ensp; A coluna ``loudness`` foi retirada com sucesso."
   ]
  },
  {
   "cell_type": "markdown",
   "metadata": {},
   "source": [
    "#### 3.3.1.4. Tempo e Duração"
   ]
  },
  {
   "cell_type": "markdown",
   "metadata": {},
   "source": [
    "&ensp; As colunas ``tempo`` e ``duration_ms``, por tratarem de duração de músicas, não podem conter valores abaixo de 0. O código abaixo verifica se isso acontece."
   ]
  },
  {
   "cell_type": "code",
   "execution_count": 3258,
   "metadata": {},
   "outputs": [
    {
     "data": {
      "text/plain": [
       "98"
      ]
     },
     "execution_count": 3258,
     "metadata": {},
     "output_type": "execute_result"
    }
   ],
   "source": [
    "df.loc[df['tempo'] <= 0].shape[0]"
   ]
  },
  {
   "cell_type": "markdown",
   "metadata": {},
   "source": [
    "&ensp; Há 98 linhas que o ``tempo`` é menor ou igual a zero. No caso dessas, optou-se por substituí-las pela mediana, já que esta é menos sensível à outliers estátisticos que não foram ainda verificados."
   ]
  },
  {
   "cell_type": "code",
   "execution_count": 3259,
   "metadata": {},
   "outputs": [],
   "source": [
    "df.loc[df['tempo'] <= 0, 'tempo'] = df['tempo'].median()"
   ]
  },
  {
   "cell_type": "markdown",
   "metadata": {},
   "source": [
    "&ensp; Investiga-se, agora, ``duration_ms``."
   ]
  },
  {
   "cell_type": "code",
   "execution_count": 3260,
   "metadata": {},
   "outputs": [
    {
     "data": {
      "text/plain": [
       "0"
      ]
     },
     "execution_count": 3260,
     "metadata": {},
     "output_type": "execute_result"
    }
   ],
   "source": [
    "df.loc[df['duration_ms'] <= 0].shape[0]"
   ]
  },
  {
   "cell_type": "markdown",
   "metadata": {},
   "source": [
    "&ensp; Conclui-se que essa coluna não contém valores fora da faixa permitida."
   ]
  },
  {
   "cell_type": "markdown",
   "metadata": {},
   "source": [
    "#### 3.3.1.5 Valores Booleanos"
   ]
  },
  {
   "cell_type": "markdown",
   "metadata": {},
   "source": [
    "&ensp; Apesar de a maioria dos algoritmos converter corretamente valores booleanos, escolheu-se convertê-los para dados do tipo ``int``, a fim de garantir a integridade do banco de dados."
   ]
  },
  {
   "cell_type": "markdown",
   "metadata": {},
   "source": [
    "&ensp; A variável ``mode`` é uma variável booleana que indica o modo (maior ou menor) da faixa. Em nosso DataFrame, porém, ela já é reconhecida como uma variável númerica."
   ]
  },
  {
   "cell_type": "code",
   "execution_count": 3261,
   "metadata": {},
   "outputs": [
    {
     "data": {
      "text/plain": [
       "array([1, 0])"
      ]
     },
     "execution_count": 3261,
     "metadata": {},
     "output_type": "execute_result"
    }
   ],
   "source": [
    "df['mode'].unique()"
   ]
  },
  {
   "cell_type": "markdown",
   "metadata": {},
   "source": [
    "&ensp; Porém, a variável ``explicit`` ainda está identificada como booleana."
   ]
  },
  {
   "cell_type": "code",
   "execution_count": 3262,
   "metadata": {},
   "outputs": [
    {
     "data": {
      "text/plain": [
       "dtype('bool')"
      ]
     },
     "execution_count": 3262,
     "metadata": {},
     "output_type": "execute_result"
    }
   ],
   "source": [
    "df['explicit'].dtype"
   ]
  },
  {
   "cell_type": "markdown",
   "metadata": {},
   "source": [
    "&ensp; Portanto, abaixo, converte-se esta variável para númerica."
   ]
  },
  {
   "cell_type": "code",
   "execution_count": 3263,
   "metadata": {},
   "outputs": [],
   "source": [
    "df['explicit'] = df['explicit'].astype(int)"
   ]
  },
  {
   "cell_type": "markdown",
   "metadata": {},
   "source": [
    "&ensp; Verifica-se abaixo se o método funcionou."
   ]
  },
  {
   "cell_type": "code",
   "execution_count": 3264,
   "metadata": {},
   "outputs": [
    {
     "name": "stdout",
     "output_type": "stream",
     "text": [
      "<class 'pandas.core.frame.DataFrame'>\n",
      "Index: 63615 entries, 41996 to 15795\n",
      "Data columns (total 18 columns):\n",
      " #   Column             Non-Null Count  Dtype  \n",
      "---  ------             --------------  -----  \n",
      " 0   artists            63615 non-null  object \n",
      " 1   album_name         63615 non-null  object \n",
      " 2   track_name         63615 non-null  object \n",
      " 3   duration_ms        63615 non-null  int64  \n",
      " 4   explicit           63615 non-null  int64  \n",
      " 5   danceability       63615 non-null  float64\n",
      " 6   energy             63615 non-null  float64\n",
      " 7   key                63615 non-null  int64  \n",
      " 8   mode               63615 non-null  int64  \n",
      " 9   speechiness        63615 non-null  float64\n",
      " 10  acousticness       63615 non-null  float64\n",
      " 11  instrumentalness   63615 non-null  float64\n",
      " 12  liveness           63615 non-null  float64\n",
      " 13  valence            63615 non-null  float64\n",
      " 14  tempo              63615 non-null  float64\n",
      " 15  time_signature     63615 non-null  int64  \n",
      " 16  track_genre        63615 non-null  object \n",
      " 17  popularity_target  63615 non-null  int64  \n",
      "dtypes: float64(8), int64(6), object(4)\n",
      "memory usage: 9.2+ MB\n"
     ]
    }
   ],
   "source": [
    "df.info()"
   ]
  },
  {
   "cell_type": "markdown",
   "metadata": {},
   "source": [
    "&ensp; Tudo conforme o esperado."
   ]
  },
  {
   "cell_type": "markdown",
   "metadata": {},
   "source": [
    "#### 3.3.1.6. Strings alfabéticas"
   ]
  },
  {
   "cell_type": "markdown",
   "metadata": {},
   "source": [
    "&ensp; Outra possibilidade de valores fora da faixa permitida são caracteres especiais ou númericos em strings que esperam somente letras de A-Z, sejam maiúsculas ou minúsculas. Para verificar isto, recorre-se novamente ao método ``info()``, com o propósito de verificar as colunas do tipo ``object``."
   ]
  },
  {
   "cell_type": "code",
   "execution_count": 3265,
   "metadata": {},
   "outputs": [
    {
     "name": "stdout",
     "output_type": "stream",
     "text": [
      "<class 'pandas.core.frame.DataFrame'>\n",
      "Index: 63615 entries, 41996 to 15795\n",
      "Data columns (total 18 columns):\n",
      " #   Column             Non-Null Count  Dtype  \n",
      "---  ------             --------------  -----  \n",
      " 0   artists            63615 non-null  object \n",
      " 1   album_name         63615 non-null  object \n",
      " 2   track_name         63615 non-null  object \n",
      " 3   duration_ms        63615 non-null  int64  \n",
      " 4   explicit           63615 non-null  int64  \n",
      " 5   danceability       63615 non-null  float64\n",
      " 6   energy             63615 non-null  float64\n",
      " 7   key                63615 non-null  int64  \n",
      " 8   mode               63615 non-null  int64  \n",
      " 9   speechiness        63615 non-null  float64\n",
      " 10  acousticness       63615 non-null  float64\n",
      " 11  instrumentalness   63615 non-null  float64\n",
      " 12  liveness           63615 non-null  float64\n",
      " 13  valence            63615 non-null  float64\n",
      " 14  tempo              63615 non-null  float64\n",
      " 15  time_signature     63615 non-null  int64  \n",
      " 16  track_genre        63615 non-null  object \n",
      " 17  popularity_target  63615 non-null  int64  \n",
      "dtypes: float64(8), int64(6), object(4)\n",
      "memory usage: 9.2+ MB\n"
     ]
    }
   ],
   "source": [
    "df.info()"
   ]
  },
  {
   "cell_type": "markdown",
   "metadata": {},
   "source": [
    "&ensp; Apesar de ``artists``, ``album_name``, ``track_name`` e `` track_genre`` serem do tipo ``object``, apenas ``artists`` não pode conter números. Normalmente, ele também não conteria caracteres especiais, porém, é comum que nomes sejam abreviados com pontos. Além disso, em casos de feat, esta coluna contém o caractere especial \";\". Por essa razão, verifica-se abaixo se há algum número nesta coluna."
   ]
  },
  {
   "cell_type": "code",
   "execution_count": 3266,
   "metadata": {},
   "outputs": [
    {
     "data": {
      "text/plain": [
       "np.int64(1702)"
      ]
     },
     "execution_count": 3266,
     "metadata": {},
     "output_type": "execute_result"
    }
   ],
   "source": [
    "# Regex para identificar strings que contenham números\n",
    "regex_pattern = r'\\d'\n",
    "\n",
    "# Verificar se há caracteres fora do padrão na coluna 'artists'\n",
    "df['artists'].str.contains(regex_pattern, regex=True, na=False).sum()"
   ]
  },
  {
   "cell_type": "markdown",
   "metadata": {},
   "source": [
    "&ensp; Há uma quantidade significativa de nomes com números. Investiga-se abaixo alguns deles."
   ]
  },
  {
   "cell_type": "code",
   "execution_count": 3267,
   "metadata": {},
   "outputs": [
    {
     "data": {
      "text/html": [
       "<div>\n",
       "<style scoped>\n",
       "    .dataframe tbody tr th:only-of-type {\n",
       "        vertical-align: middle;\n",
       "    }\n",
       "\n",
       "    .dataframe tbody tr th {\n",
       "        vertical-align: top;\n",
       "    }\n",
       "\n",
       "    .dataframe thead th {\n",
       "        text-align: right;\n",
       "    }\n",
       "</style>\n",
       "<table border=\"1\" class=\"dataframe\">\n",
       "  <thead>\n",
       "    <tr style=\"text-align: right;\">\n",
       "      <th></th>\n",
       "      <th>artists</th>\n",
       "      <th>album_name</th>\n",
       "      <th>track_name</th>\n",
       "      <th>duration_ms</th>\n",
       "      <th>explicit</th>\n",
       "      <th>danceability</th>\n",
       "      <th>energy</th>\n",
       "      <th>key</th>\n",
       "      <th>mode</th>\n",
       "      <th>speechiness</th>\n",
       "      <th>acousticness</th>\n",
       "      <th>instrumentalness</th>\n",
       "      <th>liveness</th>\n",
       "      <th>valence</th>\n",
       "      <th>tempo</th>\n",
       "      <th>time_signature</th>\n",
       "      <th>track_genre</th>\n",
       "      <th>popularity_target</th>\n",
       "    </tr>\n",
       "    <tr>\n",
       "      <th>track_unique_id</th>\n",
       "      <th></th>\n",
       "      <th></th>\n",
       "      <th></th>\n",
       "      <th></th>\n",
       "      <th></th>\n",
       "      <th></th>\n",
       "      <th></th>\n",
       "      <th></th>\n",
       "      <th></th>\n",
       "      <th></th>\n",
       "      <th></th>\n",
       "      <th></th>\n",
       "      <th></th>\n",
       "      <th></th>\n",
       "      <th></th>\n",
       "      <th></th>\n",
       "      <th></th>\n",
       "      <th></th>\n",
       "    </tr>\n",
       "  </thead>\n",
       "  <tbody>\n",
       "    <tr>\n",
       "      <th>74052</th>\n",
       "      <td>UM44K;Luan Otten</td>\n",
       "      <td>Melhor pensar</td>\n",
       "      <td>Melhor pensar</td>\n",
       "      <td>205345</td>\n",
       "      <td>0</td>\n",
       "      <td>0.665</td>\n",
       "      <td>0.431</td>\n",
       "      <td>8</td>\n",
       "      <td>1</td>\n",
       "      <td>0.0306</td>\n",
       "      <td>0.416000</td>\n",
       "      <td>0.000000</td>\n",
       "      <td>0.1740</td>\n",
       "      <td>0.698</td>\n",
       "      <td>149.935</td>\n",
       "      <td>4</td>\n",
       "      <td>mpb</td>\n",
       "      <td>1</td>\n",
       "    </tr>\n",
       "    <tr>\n",
       "      <th>23204</th>\n",
       "      <td>Y.V.E. 48</td>\n",
       "      <td>Let You Know</td>\n",
       "      <td>Let You Know</td>\n",
       "      <td>173166</td>\n",
       "      <td>0</td>\n",
       "      <td>0.610</td>\n",
       "      <td>0.571</td>\n",
       "      <td>5</td>\n",
       "      <td>1</td>\n",
       "      <td>0.0395</td>\n",
       "      <td>0.242000</td>\n",
       "      <td>0.210000</td>\n",
       "      <td>0.2280</td>\n",
       "      <td>0.147</td>\n",
       "      <td>89.769</td>\n",
       "      <td>4</td>\n",
       "      <td>deep-house</td>\n",
       "      <td>1</td>\n",
       "    </tr>\n",
       "    <tr>\n",
       "      <th>15612</th>\n",
       "      <td>creamy;Martin Arteta;11:11 Music Group</td>\n",
       "      <td>Past Lives</td>\n",
       "      <td>Past Lives (Acoustic)</td>\n",
       "      <td>122586</td>\n",
       "      <td>0</td>\n",
       "      <td>0.601</td>\n",
       "      <td>0.330</td>\n",
       "      <td>3</td>\n",
       "      <td>1</td>\n",
       "      <td>0.0336</td>\n",
       "      <td>0.981000</td>\n",
       "      <td>0.015900</td>\n",
       "      <td>0.3550</td>\n",
       "      <td>0.461</td>\n",
       "      <td>116.058</td>\n",
       "      <td>4</td>\n",
       "      <td>chill</td>\n",
       "      <td>1</td>\n",
       "    </tr>\n",
       "    <tr>\n",
       "      <th>77369</th>\n",
       "      <td>Atitude 67</td>\n",
       "      <td>Atitude 67 (Ao Vivo)</td>\n",
       "      <td>Vou Te Escrever Um Rap - Ao Vivo</td>\n",
       "      <td>190440</td>\n",
       "      <td>0</td>\n",
       "      <td>0.712</td>\n",
       "      <td>0.823</td>\n",
       "      <td>9</td>\n",
       "      <td>1</td>\n",
       "      <td>0.0859</td>\n",
       "      <td>0.561000</td>\n",
       "      <td>0.000000</td>\n",
       "      <td>0.7670</td>\n",
       "      <td>0.765</td>\n",
       "      <td>161.885</td>\n",
       "      <td>4</td>\n",
       "      <td>pagode</td>\n",
       "      <td>1</td>\n",
       "    </tr>\n",
       "    <tr>\n",
       "      <th>91175</th>\n",
       "      <td>blink-182</td>\n",
       "      <td>Halloween Scary Party</td>\n",
       "      <td>Ghost On The Dance Floor</td>\n",
       "      <td>257519</td>\n",
       "      <td>1</td>\n",
       "      <td>0.532</td>\n",
       "      <td>0.969</td>\n",
       "      <td>11</td>\n",
       "      <td>1</td>\n",
       "      <td>0.0581</td>\n",
       "      <td>0.000024</td>\n",
       "      <td>0.026500</td>\n",
       "      <td>0.0912</td>\n",
       "      <td>0.547</td>\n",
       "      <td>103.511</td>\n",
       "      <td>4</td>\n",
       "      <td>rock</td>\n",
       "      <td>0</td>\n",
       "    </tr>\n",
       "    <tr>\n",
       "      <th>...</th>\n",
       "      <td>...</td>\n",
       "      <td>...</td>\n",
       "      <td>...</td>\n",
       "      <td>...</td>\n",
       "      <td>...</td>\n",
       "      <td>...</td>\n",
       "      <td>...</td>\n",
       "      <td>...</td>\n",
       "      <td>...</td>\n",
       "      <td>...</td>\n",
       "      <td>...</td>\n",
       "      <td>...</td>\n",
       "      <td>...</td>\n",
       "      <td>...</td>\n",
       "      <td>...</td>\n",
       "      <td>...</td>\n",
       "      <td>...</td>\n",
       "      <td>...</td>\n",
       "    </tr>\n",
       "    <tr>\n",
       "      <th>33159</th>\n",
       "      <td>6ix9ine</td>\n",
       "      <td>Day69: Graduation Day</td>\n",
       "      <td>GOTTI</td>\n",
       "      <td>166851</td>\n",
       "      <td>1</td>\n",
       "      <td>0.728</td>\n",
       "      <td>0.584</td>\n",
       "      <td>10</td>\n",
       "      <td>0</td>\n",
       "      <td>0.1760</td>\n",
       "      <td>0.052400</td>\n",
       "      <td>0.000000</td>\n",
       "      <td>0.0658</td>\n",
       "      <td>0.365</td>\n",
       "      <td>161.900</td>\n",
       "      <td>4</td>\n",
       "      <td>emo</td>\n",
       "      <td>1</td>\n",
       "    </tr>\n",
       "    <tr>\n",
       "      <th>61228</th>\n",
       "      <td>Keyakizaka46</td>\n",
       "      <td>真っ白なものは汚したくなる (Complete Edition)</td>\n",
       "      <td>バレエと少年</td>\n",
       "      <td>221560</td>\n",
       "      <td>0</td>\n",
       "      <td>0.679</td>\n",
       "      <td>0.556</td>\n",
       "      <td>7</td>\n",
       "      <td>0</td>\n",
       "      <td>0.0297</td>\n",
       "      <td>0.210000</td>\n",
       "      <td>0.000000</td>\n",
       "      <td>0.2190</td>\n",
       "      <td>0.435</td>\n",
       "      <td>120.004</td>\n",
       "      <td>4</td>\n",
       "      <td>j-idol</td>\n",
       "      <td>0</td>\n",
       "    </tr>\n",
       "    <tr>\n",
       "      <th>2747</th>\n",
       "      <td>La 25</td>\n",
       "      <td>Asi Es el Rock And Roll</td>\n",
       "      <td>Mil Canciones</td>\n",
       "      <td>372091</td>\n",
       "      <td>0</td>\n",
       "      <td>0.568</td>\n",
       "      <td>0.851</td>\n",
       "      <td>7</td>\n",
       "      <td>1</td>\n",
       "      <td>0.0327</td>\n",
       "      <td>0.025000</td>\n",
       "      <td>0.000000</td>\n",
       "      <td>0.0763</td>\n",
       "      <td>0.490</td>\n",
       "      <td>124.035</td>\n",
       "      <td>4</td>\n",
       "      <td>alt-rock</td>\n",
       "      <td>1</td>\n",
       "    </tr>\n",
       "    <tr>\n",
       "      <th>83104</th>\n",
       "      <td>R3HAB;Alida</td>\n",
       "      <td>One More Dance (with Alida)</td>\n",
       "      <td>One More Dance (with Alida)</td>\n",
       "      <td>145161</td>\n",
       "      <td>0</td>\n",
       "      <td>0.726</td>\n",
       "      <td>0.761</td>\n",
       "      <td>9</td>\n",
       "      <td>0</td>\n",
       "      <td>0.0432</td>\n",
       "      <td>0.162000</td>\n",
       "      <td>0.001220</td>\n",
       "      <td>0.0879</td>\n",
       "      <td>0.558</td>\n",
       "      <td>123.954</td>\n",
       "      <td>3</td>\n",
       "      <td>progressive-house</td>\n",
       "      <td>1</td>\n",
       "    </tr>\n",
       "    <tr>\n",
       "      <th>82386</th>\n",
       "      <td>The 20 Belows</td>\n",
       "      <td>For Better Days</td>\n",
       "      <td>The Inevitable Knockdown</td>\n",
       "      <td>69822</td>\n",
       "      <td>0</td>\n",
       "      <td>0.210</td>\n",
       "      <td>0.989</td>\n",
       "      <td>9</td>\n",
       "      <td>0</td>\n",
       "      <td>0.2320</td>\n",
       "      <td>0.000458</td>\n",
       "      <td>0.000008</td>\n",
       "      <td>0.5960</td>\n",
       "      <td>0.546</td>\n",
       "      <td>199.330</td>\n",
       "      <td>4</td>\n",
       "      <td>power-pop</td>\n",
       "      <td>0</td>\n",
       "    </tr>\n",
       "  </tbody>\n",
       "</table>\n",
       "<p>1702 rows × 18 columns</p>\n",
       "</div>"
      ],
      "text/plain": [
       "                                                artists  \\\n",
       "track_unique_id                                           \n",
       "74052                                  UM44K;Luan Otten   \n",
       "23204                                         Y.V.E. 48   \n",
       "15612            creamy;Martin Arteta;11:11 Music Group   \n",
       "77369                                        Atitude 67   \n",
       "91175                                         blink-182   \n",
       "...                                                 ...   \n",
       "33159                                           6ix9ine   \n",
       "61228                                      Keyakizaka46   \n",
       "2747                                              La 25   \n",
       "83104                                       R3HAB;Alida   \n",
       "82386                                     The 20 Belows   \n",
       "\n",
       "                                       album_name  \\\n",
       "track_unique_id                                     \n",
       "74052                               Melhor pensar   \n",
       "23204                                Let You Know   \n",
       "15612                                  Past Lives   \n",
       "77369                        Atitude 67 (Ao Vivo)   \n",
       "91175                       Halloween Scary Party   \n",
       "...                                           ...   \n",
       "33159                       Day69: Graduation Day   \n",
       "61228            真っ白なものは汚したくなる (Complete Edition)   \n",
       "2747                      Asi Es el Rock And Roll   \n",
       "83104                 One More Dance (with Alida)   \n",
       "82386                             For Better Days   \n",
       "\n",
       "                                       track_name  duration_ms  explicit  \\\n",
       "track_unique_id                                                            \n",
       "74052                               Melhor pensar       205345         0   \n",
       "23204                                Let You Know       173166         0   \n",
       "15612                       Past Lives (Acoustic)       122586         0   \n",
       "77369            Vou Te Escrever Um Rap - Ao Vivo       190440         0   \n",
       "91175                    Ghost On The Dance Floor       257519         1   \n",
       "...                                           ...          ...       ...   \n",
       "33159                                       GOTTI       166851         1   \n",
       "61228                                      バレエと少年       221560         0   \n",
       "2747                                Mil Canciones       372091         0   \n",
       "83104                 One More Dance (with Alida)       145161         0   \n",
       "82386                    The Inevitable Knockdown        69822         0   \n",
       "\n",
       "                 danceability  energy  key  mode  speechiness  acousticness  \\\n",
       "track_unique_id                                                               \n",
       "74052                   0.665   0.431    8     1       0.0306      0.416000   \n",
       "23204                   0.610   0.571    5     1       0.0395      0.242000   \n",
       "15612                   0.601   0.330    3     1       0.0336      0.981000   \n",
       "77369                   0.712   0.823    9     1       0.0859      0.561000   \n",
       "91175                   0.532   0.969   11     1       0.0581      0.000024   \n",
       "...                       ...     ...  ...   ...          ...           ...   \n",
       "33159                   0.728   0.584   10     0       0.1760      0.052400   \n",
       "61228                   0.679   0.556    7     0       0.0297      0.210000   \n",
       "2747                    0.568   0.851    7     1       0.0327      0.025000   \n",
       "83104                   0.726   0.761    9     0       0.0432      0.162000   \n",
       "82386                   0.210   0.989    9     0       0.2320      0.000458   \n",
       "\n",
       "                 instrumentalness  liveness  valence    tempo  time_signature  \\\n",
       "track_unique_id                                                                 \n",
       "74052                    0.000000    0.1740    0.698  149.935               4   \n",
       "23204                    0.210000    0.2280    0.147   89.769               4   \n",
       "15612                    0.015900    0.3550    0.461  116.058               4   \n",
       "77369                    0.000000    0.7670    0.765  161.885               4   \n",
       "91175                    0.026500    0.0912    0.547  103.511               4   \n",
       "...                           ...       ...      ...      ...             ...   \n",
       "33159                    0.000000    0.0658    0.365  161.900               4   \n",
       "61228                    0.000000    0.2190    0.435  120.004               4   \n",
       "2747                     0.000000    0.0763    0.490  124.035               4   \n",
       "83104                    0.001220    0.0879    0.558  123.954               3   \n",
       "82386                    0.000008    0.5960    0.546  199.330               4   \n",
       "\n",
       "                       track_genre  popularity_target  \n",
       "track_unique_id                                        \n",
       "74052                          mpb                  1  \n",
       "23204                   deep-house                  1  \n",
       "15612                        chill                  1  \n",
       "77369                       pagode                  1  \n",
       "91175                         rock                  0  \n",
       "...                            ...                ...  \n",
       "33159                          emo                  1  \n",
       "61228                       j-idol                  0  \n",
       "2747                      alt-rock                  1  \n",
       "83104            progressive-house                  1  \n",
       "82386                    power-pop                  0  \n",
       "\n",
       "[1702 rows x 18 columns]"
      ]
     },
     "execution_count": 3267,
     "metadata": {},
     "output_type": "execute_result"
    }
   ],
   "source": [
    "df.loc[df['artists'].str.contains(regex_pattern, regex=True, na=False)]"
   ]
  },
  {
   "cell_type": "markdown",
   "metadata": {},
   "source": [
    "&ensp; Após investigação, verificou-se que o senso comum de nomes não conterem letras não se aplica aos nomes artísticos. Isso, pois podem haver bandas com números em seus nomes como o \"The 20 Belows\" e, até mesmo, nomes artísticos como \"6ix9ine\". Sendo assim, optou-se por manter esses registros."
   ]
  },
  {
   "cell_type": "markdown",
   "metadata": {},
   "source": [
    "&ensp; Nesta seção, nenhum registro foi retirado, de modo que o balanceamento entre as classes permanece igual. Entretanto, valores fora da faixa de valores permitida foram substituídas pela sua moda ou mediana a depender do contexto."
   ]
  },
  {
   "cell_type": "markdown",
   "metadata": {},
   "source": [
    "### 3.3.2. Valores fora da faixa de valores esperada"
   ]
  },
  {
   "cell_type": "markdown",
   "metadata": {},
   "source": [
    "&ensp; Para este projeto, considerou-se outliers os valores neste formato: $Q_3 + 1.5 \\cdot IQR$ ou $Q_1 - 1.5 \\cdot IQR$ em que:\n",
    "- $Q_n$ é o quartil n;\n",
    "- $IQR$ é o intervalo interquartil.\n",
    "&ensp; Entretanto, evidencia-se que a natureza dos dados permite apenas que ``tempo`` e ``duration_ms`` possam ter valores assim. Verifica-se a quantidade de outliers por meio do *box plot* abaixo."
   ]
  },
  {
   "cell_type": "code",
   "execution_count": 3268,
   "metadata": {},
   "outputs": [
    {
     "data": {
      "text/plain": [
       "Text(0.5, 0, 'Duração(ms)')"
      ]
     },
     "execution_count": 3268,
     "metadata": {},
     "output_type": "execute_result"
    },
    {
     "data": {
      "image/png": "[encoded data removed]",
      "text/plain": [
       "<Figure size 800x1200 with 2 Axes>"
      ]
     },
     "metadata": {},
     "output_type": "display_data"
    }
   ],
   "source": [
    "fig, axs = plt.subplots(2, 1, figsize=(8,12))\n",
    "\n",
    "axs[0].boxplot(df['tempo'], vert=False)\n",
    "axs[0].set_title('Box Plot do Tempo da Faixa')\n",
    "\n",
    "axs[1].boxplot(df['duration_ms'], vert=False)\n",
    "axs[1].set_title('Box Plot da Duração da Faixa')\n",
    "axs[1].set_xlabel('Duração(ms)')\n"
   ]
  },
  {
   "cell_type": "markdown",
   "metadata": {},
   "source": [
    "&ensp; Em ambos os casos, optou-se por substituir esses valores pelos valores do terceiro ou do primeiro quartil a depender se o outlier é superior ou inferior. Faz-se isso abaixo"
   ]
  },
  {
   "cell_type": "code",
   "execution_count": 3269,
   "metadata": {},
   "outputs": [],
   "source": [
    "# Cálculo do IQR\n",
    "iqr = df['tempo'].quantile(0.75) - df['tempo'].quantile(0.25)\n",
    "q1 = df['tempo'].quantile(0.25)\n",
    "q3 = df['tempo'].quantile(0.75)\n",
    "\n",
    "# Substituindo outliers superiores\n",
    "df.loc[df['tempo'] >= (q3 + 1.5 * iqr), 'tempo'] = q3\n",
    "\n",
    "# Substituindo outliers inferiores\n",
    "df.loc[df['tempo'] <= (q1 - 1.5 * iqr), 'tempo'] = q1\n",
    "\n"
   ]
  },
  {
   "cell_type": "code",
   "execution_count": 3270,
   "metadata": {},
   "outputs": [],
   "source": [
    "# Cálculo do IQR\n",
    "iqr = df['duration_ms'].quantile(0.75) - df['duration_ms'].quantile(0.25)\n",
    "q1 = df['duration_ms'].quantile(0.25)\n",
    "q3 = df['duration_ms'].quantile(0.75)\n",
    "\n",
    "# Substituindo outliers superiores\n",
    "df.loc[df['duration_ms'] >= (q3 + 1.5 * iqr), 'duration_ms'] = q3\n",
    "\n",
    "# Substituindo outliers inferiores\n",
    "df.loc[df['duration_ms'] <= (q1 - 1.5 * iqr), 'duration_ms'] = q1"
   ]
  },
  {
   "cell_type": "markdown",
   "metadata": {},
   "source": [
    "&ensp; Abaixo, verifica-se se isto funcinou."
   ]
  },
  {
   "cell_type": "code",
   "execution_count": 3271,
   "metadata": {},
   "outputs": [
    {
     "data": {
      "text/plain": [
       "Text(0.5, 0, 'Duração(ms)')"
      ]
     },
     "execution_count": 3271,
     "metadata": {},
     "output_type": "execute_result"
    },
    {
     "data": {
      "image/png": "[encoded data removed]",
      "text/plain": [
       "<Figure size 800x1200 with 2 Axes>"
      ]
     },
     "metadata": {},
     "output_type": "display_data"
    }
   ],
   "source": [
    "fig, axs = plt.subplots(2, 1, figsize=(8,12))\n",
    "\n",
    "axs[0].boxplot(df['tempo'], vert=False)\n",
    "axs[0].set_title('Box Plot Tratado do Tempo da Faixa')\n",
    "\n",
    "axs[1].boxplot(df['duration_ms'], vert=False)\n",
    "axs[1].set_title('Box Plot Tratado da Duração da Faixa')\n",
    "axs[1].set_xlabel('Duração(ms)')"
   ]
  },
  {
   "cell_type": "markdown",
   "metadata": {},
   "source": [
    "&ensp; Observa-se que o processo funcionou."
   ]
  },
  {
   "cell_type": "markdown",
   "metadata": {},
   "source": [
    "## 3.4. Considerações finais"
   ]
  },
  {
   "cell_type": "markdown",
   "metadata": {},
   "source": [
    "&ensp; Este processo de limpeza permitiu tratar os outliers e retirar duplicatas de nosso *DataFrame*. Não obstante, manteve-se o balanceamento das classes e a integridade do mesmo. Antes de fechar a seção, porém, é necessário excluir a coluna ``track_name``, que também possui muitos valores únicos, mas que não poderia ser retirada no processo de duplicatas já que diferenciava efetivamente as músicas. Faz-se isso abaixo"
   ]
  },
  {
   "cell_type": "code",
   "execution_count": 3272,
   "metadata": {},
   "outputs": [
    {
     "data": {
      "text/html": [
       "<div>\n",
       "<style scoped>\n",
       "    .dataframe tbody tr th:only-of-type {\n",
       "        vertical-align: middle;\n",
       "    }\n",
       "\n",
       "    .dataframe tbody tr th {\n",
       "        vertical-align: top;\n",
       "    }\n",
       "\n",
       "    .dataframe thead th {\n",
       "        text-align: right;\n",
       "    }\n",
       "</style>\n",
       "<table border=\"1\" class=\"dataframe\">\n",
       "  <thead>\n",
       "    <tr style=\"text-align: right;\">\n",
       "      <th></th>\n",
       "      <th>artists</th>\n",
       "      <th>album_name</th>\n",
       "      <th>duration_ms</th>\n",
       "      <th>explicit</th>\n",
       "      <th>danceability</th>\n",
       "      <th>energy</th>\n",
       "      <th>key</th>\n",
       "      <th>mode</th>\n",
       "      <th>speechiness</th>\n",
       "      <th>acousticness</th>\n",
       "      <th>instrumentalness</th>\n",
       "      <th>liveness</th>\n",
       "      <th>valence</th>\n",
       "      <th>tempo</th>\n",
       "      <th>time_signature</th>\n",
       "      <th>track_genre</th>\n",
       "      <th>popularity_target</th>\n",
       "    </tr>\n",
       "    <tr>\n",
       "      <th>track_unique_id</th>\n",
       "      <th></th>\n",
       "      <th></th>\n",
       "      <th></th>\n",
       "      <th></th>\n",
       "      <th></th>\n",
       "      <th></th>\n",
       "      <th></th>\n",
       "      <th></th>\n",
       "      <th></th>\n",
       "      <th></th>\n",
       "      <th></th>\n",
       "      <th></th>\n",
       "      <th></th>\n",
       "      <th></th>\n",
       "      <th></th>\n",
       "      <th></th>\n",
       "      <th></th>\n",
       "    </tr>\n",
       "  </thead>\n",
       "  <tbody>\n",
       "    <tr>\n",
       "      <th>41996</th>\n",
       "      <td>Love and Rockets</td>\n",
       "      <td>Love and Rockets</td>\n",
       "      <td>211533</td>\n",
       "      <td>0</td>\n",
       "      <td>0.305</td>\n",
       "      <td>0.8490</td>\n",
       "      <td>9</td>\n",
       "      <td>1</td>\n",
       "      <td>0.0549</td>\n",
       "      <td>0.000058</td>\n",
       "      <td>0.056700</td>\n",
       "      <td>0.4640</td>\n",
       "      <td>0.3200</td>\n",
       "      <td>141.793</td>\n",
       "      <td>4</td>\n",
       "      <td>goth</td>\n",
       "      <td>0</td>\n",
       "    </tr>\n",
       "    <tr>\n",
       "      <th>76471</th>\n",
       "      <td>Filippa Giordano</td>\n",
       "      <td>Filippa Giordano</td>\n",
       "      <td>196000</td>\n",
       "      <td>0</td>\n",
       "      <td>0.287</td>\n",
       "      <td>0.1900</td>\n",
       "      <td>7</td>\n",
       "      <td>0</td>\n",
       "      <td>0.0370</td>\n",
       "      <td>0.930000</td>\n",
       "      <td>0.000356</td>\n",
       "      <td>0.0834</td>\n",
       "      <td>0.1330</td>\n",
       "      <td>83.685</td>\n",
       "      <td>4</td>\n",
       "      <td>opera</td>\n",
       "      <td>0</td>\n",
       "    </tr>\n",
       "    <tr>\n",
       "      <th>54809</th>\n",
       "      <td>Susumu Yokota</td>\n",
       "      <td>Symbol</td>\n",
       "      <td>216506</td>\n",
       "      <td>0</td>\n",
       "      <td>0.583</td>\n",
       "      <td>0.5090</td>\n",
       "      <td>1</td>\n",
       "      <td>1</td>\n",
       "      <td>0.0362</td>\n",
       "      <td>0.777000</td>\n",
       "      <td>0.202000</td>\n",
       "      <td>0.1150</td>\n",
       "      <td>0.5440</td>\n",
       "      <td>90.459</td>\n",
       "      <td>3</td>\n",
       "      <td>idm</td>\n",
       "      <td>1</td>\n",
       "    </tr>\n",
       "    <tr>\n",
       "      <th>16326</th>\n",
       "      <td>Franz Liszt;YUNDI</td>\n",
       "      <td>Relajación y siestas</td>\n",
       "      <td>218346</td>\n",
       "      <td>0</td>\n",
       "      <td>0.163</td>\n",
       "      <td>0.0368</td>\n",
       "      <td>8</td>\n",
       "      <td>1</td>\n",
       "      <td>0.0472</td>\n",
       "      <td>0.991000</td>\n",
       "      <td>0.899000</td>\n",
       "      <td>0.1070</td>\n",
       "      <td>0.0387</td>\n",
       "      <td>69.442</td>\n",
       "      <td>3</td>\n",
       "      <td>classical</td>\n",
       "      <td>0</td>\n",
       "    </tr>\n",
       "    <tr>\n",
       "      <th>109799</th>\n",
       "      <td>Scooter</td>\n",
       "      <td>Scooter Forever</td>\n",
       "      <td>173160</td>\n",
       "      <td>0</td>\n",
       "      <td>0.647</td>\n",
       "      <td>0.9210</td>\n",
       "      <td>2</td>\n",
       "      <td>1</td>\n",
       "      <td>0.1850</td>\n",
       "      <td>0.000939</td>\n",
       "      <td>0.371000</td>\n",
       "      <td>0.1310</td>\n",
       "      <td>0.1710</td>\n",
       "      <td>137.981</td>\n",
       "      <td>4</td>\n",
       "      <td>techno</td>\n",
       "      <td>0</td>\n",
       "    </tr>\n",
       "  </tbody>\n",
       "</table>\n",
       "</div>"
      ],
      "text/plain": [
       "                           artists            album_name  duration_ms  \\\n",
       "track_unique_id                                                         \n",
       "41996             Love and Rockets      Love and Rockets       211533   \n",
       "76471             Filippa Giordano      Filippa Giordano       196000   \n",
       "54809                Susumu Yokota                Symbol       216506   \n",
       "16326            Franz Liszt;YUNDI  Relajación y siestas       218346   \n",
       "109799                     Scooter       Scooter Forever       173160   \n",
       "\n",
       "                 explicit  danceability  energy  key  mode  speechiness  \\\n",
       "track_unique_id                                                           \n",
       "41996                   0         0.305  0.8490    9     1       0.0549   \n",
       "76471                   0         0.287  0.1900    7     0       0.0370   \n",
       "54809                   0         0.583  0.5090    1     1       0.0362   \n",
       "16326                   0         0.163  0.0368    8     1       0.0472   \n",
       "109799                  0         0.647  0.9210    2     1       0.1850   \n",
       "\n",
       "                 acousticness  instrumentalness  liveness  valence    tempo  \\\n",
       "track_unique_id                                                               \n",
       "41996                0.000058          0.056700    0.4640   0.3200  141.793   \n",
       "76471                0.930000          0.000356    0.0834   0.1330   83.685   \n",
       "54809                0.777000          0.202000    0.1150   0.5440   90.459   \n",
       "16326                0.991000          0.899000    0.1070   0.0387   69.442   \n",
       "109799               0.000939          0.371000    0.1310   0.1710  137.981   \n",
       "\n",
       "                 time_signature track_genre  popularity_target  \n",
       "track_unique_id                                                 \n",
       "41996                         4        goth                  0  \n",
       "76471                         4       opera                  0  \n",
       "54809                         3         idm                  1  \n",
       "16326                         3   classical                  0  \n",
       "109799                        4      techno                  0  "
      ]
     },
     "execution_count": 3272,
     "metadata": {},
     "output_type": "execute_result"
    }
   ],
   "source": [
    "df.drop(columns='track_name', inplace=True)\n",
    "\n",
    "df.head()"
   ]
  },
  {
   "cell_type": "markdown",
   "metadata": {},
   "source": [
    "&ensp; Desta forma, finaliza-se o processo de limpeza."
   ]
  },
  {
   "cell_type": "markdown",
   "metadata": {},
   "source": [
    "# 4. Processo 3: Teste de Hipóteses"
   ]
  },
  {
   "cell_type": "markdown",
   "metadata": {},
   "source": [
    "&ensp; Ao fim da seção de Exploração Inicial de Dados, expôs-se três hipóteses acerca da interação entre as variáveis e a coluna popularidade. Repete-se aqui estas hipóteses:\n",
    "\n",
    "1. Apesar de nenhuma variável númerica da música, por si, r a popularidade da música, sugere-se que uma combinação de variáveis o faça. Portanto, hipotetiza-se que um conjunto de variáveis feliz, como alta ``valence``, alta ``energy`` e alta ``danceability`` contenha mais músicas populares do que não populares;\n",
    "\n",
    "2. Espera-se que o autor(a) da música influencie mais na popularidade da música do que suas características musicais. Portanto, hipotetiza-se que a maioria das músicas do The Beatles sejam populares;\n",
    "\n",
    "3. Dado que o gênero de música mais recorrente é \"progressive-house\", sugere-se que o gênero de uma música não é relevante para sua popularidade. Portanto, hipotetiza-se que o desvio padrão entre a porcentagem de músicas populares seja baixo (<20%).\n",
    "\n",
    "Nesta seção, após a limpeza, estas hipóteses serão testadas."
   ]
  },
  {
   "cell_type": "markdown",
   "metadata": {},
   "source": [
    "## 4.1. Felicidade x Popularidade"
   ]
  },
  {
   "cell_type": "markdown",
   "metadata": {},
   "source": [
    "&ensp; A primeira hipótese era que músicas definidas como felizes (``valence > 0.5``, ``energy > 0.5`` e ``danceability > 0.5``) conteriam mais músicas populares do que não populares. Testemos isto abaixo. Primeiro, deve-se verificar se existem músicas com esses traços"
   ]
  },
  {
   "cell_type": "code",
   "execution_count": 3273,
   "metadata": {},
   "outputs": [
    {
     "name": "stdout",
     "output_type": "stream",
     "text": [
      "19654\n"
     ]
    }
   ],
   "source": [
    "musicas_felizes = df.loc[(df['valence'] > 0.5) & (df['energy'] > 0.5) & (df['danceability'] > 0.5)]\n",
    "\n",
    "print(musicas_felizes.shape[0])"
   ]
  },
  {
   "cell_type": "markdown",
   "metadata": {},
   "source": [
    "&ensp; Existem 19654 músicas consideradas felizes. Vejamos agora quantas delas são também populares"
   ]
  },
  {
   "cell_type": "code",
   "execution_count": 3274,
   "metadata": {},
   "outputs": [
    {
     "data": {
      "text/plain": [
       "np.int64(9816)"
      ]
     },
     "execution_count": 3274,
     "metadata": {},
     "output_type": "execute_result"
    }
   ],
   "source": [
    "musicas_felizes['popularity_target'].sum()"
   ]
  },
  {
   "cell_type": "markdown",
   "metadata": {},
   "source": [
    "&ensp; Utilizando-se um gráfico de barras, pode-se visualizar até que ponto músicas felizes contém mais músicas populares que não."
   ]
  },
  {
   "cell_type": "code",
   "execution_count": 3275,
   "metadata": {},
   "outputs": [
    {
     "data": {
      "image/png": "[encoded data removed]",
      "text/plain": [
       "<Figure size 1200x600 with 1 Axes>"
      ]
     },
     "metadata": {},
     "output_type": "display_data"
    }
   ],
   "source": [
    "plt.figure(figsize=(12,6))\n",
    "populares = musicas_felizes['popularity_target'].sum()\n",
    "nao_populares = musicas_felizes.shape[0] - populares\n",
    "\n",
    "# Calcular total e porcentagens\n",
    "total = musicas_felizes.shape[0]\n",
    "porcentagem_populares = (populares / total) * 100\n",
    "porcentagem_nao_populares = (nao_populares / total) * 100\n",
    "\n",
    "plt.barh(['Populares', 'Não Populares'], [porcentagem_populares, porcentagem_nao_populares], color=['blue', 'red'])\n",
    "plt.title('Distribuição de Músicas Felizes Populares e Não Populares (%)')\n",
    "plt.ylabel('Categoria')\n",
    "plt.xlabel('Porcentagem (%)')\n",
    "\n",
    "# Adicionar os rótulos das porcentagens nas barras\n",
    "for index, value in enumerate([porcentagem_populares, porcentagem_nao_populares]):\n",
    "    plt.text(value, index, f'{value:.1f}%', va='center')\n",
    "\n",
    "plt.show()"
   ]
  },
  {
   "cell_type": "markdown",
   "metadata": {},
   "source": [
    "&ensp; Não é necessário provar o quão correta está esta hipótese, pois ela está incorreta. Apesar de por pequena margem, há mais músicas felizes não populares do que populares. Deve-se notar, entretanto, que enquanto na população há 49.5% de músicas populares, nesta amostra feliz há 49.9% mesmo que isso não seja estatisticamente relevante."
   ]
  },
  {
   "cell_type": "markdown",
   "metadata": {},
   "source": [
    "## 4.2. The Beatles x Popularidade"
   ]
  },
  {
   "cell_type": "markdown",
   "metadata": {},
   "source": [
    "&ensp; A segunda hipótese dizia respeito à maior relevância do(a) artista para a popularidade de uma música comparado à variáveis como \"dançabilidade\" e \"acusticidade\". Dado as limitações deste trabalho, optou-se por utilizar como prova apenas os dados da banda mais recorrente em nosso banco de dados: The Beatles. Assim, espera-se que as músicas da banda The Beatles tenham maior probabilidade de serem populares do que não. "
   ]
  },
  {
   "cell_type": "code",
   "execution_count": 3276,
   "metadata": {},
   "outputs": [
    {
     "data": {
      "text/plain": [
       "129"
      ]
     },
     "execution_count": 3276,
     "metadata": {},
     "output_type": "execute_result"
    }
   ],
   "source": [
    "beatles_musica = df.loc[df['artists'] == artist_mode]\n",
    "\n",
    "beatles_musica.shape[0]"
   ]
  },
  {
   "cell_type": "markdown",
   "metadata": {},
   "source": [
    "&ensp; Após a limpeza sobraram 129 faixas do The Beatles no banco. Isso evidencia a importância da limpeza, pois anteriormente haviam 65 faixas a mais que estavam incorretas. Agora, verifica-se a popularidade das músicas dos Beatles."
   ]
  },
  {
   "cell_type": "code",
   "execution_count": 3277,
   "metadata": {},
   "outputs": [
    {
     "data": {
      "image/png": "[encoded data removed]",
      "text/plain": [
       "<Figure size 1200x600 with 1 Axes>"
      ]
     },
     "metadata": {},
     "output_type": "display_data"
    }
   ],
   "source": [
    "plt.figure(figsize=(12,6))\n",
    "populares = beatles_musica['popularity_target'].sum()\n",
    "nao_populares = beatles_musica.shape[0] - populares\n",
    "\n",
    "# Calcular total e porcentagens\n",
    "total = beatles_musica.shape[0]\n",
    "porcentagem_populares = (populares / total) * 100\n",
    "porcentagem_nao_populares = (nao_populares / total) * 100\n",
    "\n",
    "plt.barh(['Populares', 'Não Populares'], [porcentagem_populares, porcentagem_nao_populares], color=['blue', 'red'])\n",
    "plt.title('Distribuição de Músicas Populares e Não Populares da Banda The Beatles (%)')\n",
    "plt.ylabel('Categoria')\n",
    "plt.xlabel('Porcentagem (%)')\n",
    "\n",
    "\n",
    "plt.show()"
   ]
  },
  {
   "cell_type": "markdown",
   "metadata": {},
   "source": [
    "&ensp; Neste caso, não há dúvidas acerca da veracidade da hipótese. 100% das músicas da banda The Beatles são populares, não obstante a variação de suas características como pode ser visto abaixo."
   ]
  },
  {
   "cell_type": "code",
   "execution_count": 3278,
   "metadata": {},
   "outputs": [
    {
     "data": {
      "text/plain": [
       "(0.0, 1.0)"
      ]
     },
     "execution_count": 3278,
     "metadata": {},
     "output_type": "execute_result"
    },
    {
     "data": {
      "image/png": "[encoded data removed]",
      "text/plain": [
       "<Figure size 1400x1500 with 3 Axes>"
      ]
     },
     "metadata": {},
     "output_type": "display_data"
    }
   ],
   "source": [
    "fig, axs = plt.subplots(3, 1, figsize=(14,15))\n",
    "\n",
    "axs[0].boxplot(beatles_musica['acousticness'], showfliers=False)\n",
    "axs[0].set_title('Box Plot dos Valores de Acústica das Músicas dos Beatles Sem Outliers')\n",
    "axs[0].set_ylim(0, 1)  # Definindo a escala de 0 a 1\n",
    "\n",
    "axs[1].boxplot(beatles_musica['danceability'], showfliers=False)\n",
    "axs[1].set_title('Box Plot dos Valores de Instrumentalidade das Músicas dos Beatles Sem Outliers')\n",
    "axs[1].set_ylim(0, 1)\n",
    "\n",
    "axs[2].boxplot(beatles_musica['valence'], showfliers=False)\n",
    "axs[2].set_title('Box Plot dos Valores de Valência das Músicas dos Beatles Sem Outliers')\n",
    "axs[2].set_ylim(0, 1)"
   ]
  },
  {
   "cell_type": "markdown",
   "metadata": {},
   "source": [
    "&ensp; Há músicas muito dançantes e pouquíssimo dançantes; há músicas que não são nenhum pouco acústicas e outras que são quase 100% acústicas e não obstante, todas são populares. Infere-se, a partir disso, que qualquer música dos Beatles seria popular. Induz-se também que o nome do artista tenha mais influência do que qualquer outra variável que diga respeito à música."
   ]
  },
  {
   "cell_type": "markdown",
   "metadata": {},
   "source": [
    "## 4.3. Familiaridade x Popularidade"
   ]
  },
  {
   "cell_type": "markdown",
   "metadata": {},
   "source": [
    "&ensp; Na tentativa de encontrar variáveis mais significativas nos dados, hipotetizou-se acerca da  influência da familiariadade do artista para a popularidade. Espera-se que quanto mais música um artista tiver registrada na base de dados, maior a chance dele ser popular. Sendo assim, criou-se a hipotése que o indíce de familiaridade definida por ``quantidade de músicas do artista/quantidade média de música por artista`` teria uma maior correlação com a popularidade que os outros indíces. Para verificar isso, é necessário primeiro criar essa coluna no *DataFrame*."
   ]
  },
  {
   "cell_type": "code",
   "execution_count": 3279,
   "metadata": {},
   "outputs": [],
   "source": [
    "# Passo 1: Contar o número de músicas de cada artista\n",
    "musicas_por_artista = df['artists'].value_counts()\n",
    "\n",
    "# Passo 2: Calcular a quantidade média de músicas por artista\n",
    "media_musicas_por_artista = musicas_por_artista.mean()\n",
    "\n",
    "# Passo 3: Criar a nova coluna 'familiar_artists'\n",
    "df['familiar_artists'] = df['artists'].map(lambda x: musicas_por_artista[x] / media_musicas_por_artista)"
   ]
  },
  {
   "cell_type": "code",
   "execution_count": 3280,
   "metadata": {},
   "outputs": [
    {
     "data": {
      "text/html": [
       "<div>\n",
       "<style scoped>\n",
       "    .dataframe tbody tr th:only-of-type {\n",
       "        vertical-align: middle;\n",
       "    }\n",
       "\n",
       "    .dataframe tbody tr th {\n",
       "        vertical-align: top;\n",
       "    }\n",
       "\n",
       "    .dataframe thead th {\n",
       "        text-align: right;\n",
       "    }\n",
       "</style>\n",
       "<table border=\"1\" class=\"dataframe\">\n",
       "  <thead>\n",
       "    <tr style=\"text-align: right;\">\n",
       "      <th></th>\n",
       "      <th>artists</th>\n",
       "      <th>album_name</th>\n",
       "      <th>duration_ms</th>\n",
       "      <th>explicit</th>\n",
       "      <th>danceability</th>\n",
       "      <th>energy</th>\n",
       "      <th>key</th>\n",
       "      <th>mode</th>\n",
       "      <th>speechiness</th>\n",
       "      <th>acousticness</th>\n",
       "      <th>instrumentalness</th>\n",
       "      <th>liveness</th>\n",
       "      <th>valence</th>\n",
       "      <th>tempo</th>\n",
       "      <th>time_signature</th>\n",
       "      <th>track_genre</th>\n",
       "      <th>popularity_target</th>\n",
       "      <th>familiar_artists</th>\n",
       "    </tr>\n",
       "    <tr>\n",
       "      <th>track_unique_id</th>\n",
       "      <th></th>\n",
       "      <th></th>\n",
       "      <th></th>\n",
       "      <th></th>\n",
       "      <th></th>\n",
       "      <th></th>\n",
       "      <th></th>\n",
       "      <th></th>\n",
       "      <th></th>\n",
       "      <th></th>\n",
       "      <th></th>\n",
       "      <th></th>\n",
       "      <th></th>\n",
       "      <th></th>\n",
       "      <th></th>\n",
       "      <th></th>\n",
       "      <th></th>\n",
       "      <th></th>\n",
       "    </tr>\n",
       "  </thead>\n",
       "  <tbody>\n",
       "    <tr>\n",
       "      <th>41996</th>\n",
       "      <td>Love and Rockets</td>\n",
       "      <td>Love and Rockets</td>\n",
       "      <td>211533</td>\n",
       "      <td>0</td>\n",
       "      <td>0.305</td>\n",
       "      <td>0.8490</td>\n",
       "      <td>9</td>\n",
       "      <td>1</td>\n",
       "      <td>0.0549</td>\n",
       "      <td>0.000058</td>\n",
       "      <td>0.056700</td>\n",
       "      <td>0.4640</td>\n",
       "      <td>0.3200</td>\n",
       "      <td>141.793</td>\n",
       "      <td>4</td>\n",
       "      <td>goth</td>\n",
       "      <td>0</td>\n",
       "      <td>0.405172</td>\n",
       "    </tr>\n",
       "    <tr>\n",
       "      <th>76471</th>\n",
       "      <td>Filippa Giordano</td>\n",
       "      <td>Filippa Giordano</td>\n",
       "      <td>196000</td>\n",
       "      <td>0</td>\n",
       "      <td>0.287</td>\n",
       "      <td>0.1900</td>\n",
       "      <td>7</td>\n",
       "      <td>0</td>\n",
       "      <td>0.0370</td>\n",
       "      <td>0.930000</td>\n",
       "      <td>0.000356</td>\n",
       "      <td>0.0834</td>\n",
       "      <td>0.1330</td>\n",
       "      <td>83.685</td>\n",
       "      <td>4</td>\n",
       "      <td>opera</td>\n",
       "      <td>0</td>\n",
       "      <td>2.836202</td>\n",
       "    </tr>\n",
       "    <tr>\n",
       "      <th>54809</th>\n",
       "      <td>Susumu Yokota</td>\n",
       "      <td>Symbol</td>\n",
       "      <td>216506</td>\n",
       "      <td>0</td>\n",
       "      <td>0.583</td>\n",
       "      <td>0.5090</td>\n",
       "      <td>1</td>\n",
       "      <td>1</td>\n",
       "      <td>0.0362</td>\n",
       "      <td>0.777000</td>\n",
       "      <td>0.202000</td>\n",
       "      <td>0.1150</td>\n",
       "      <td>0.5440</td>\n",
       "      <td>90.459</td>\n",
       "      <td>3</td>\n",
       "      <td>idm</td>\n",
       "      <td>1</td>\n",
       "      <td>6.887920</td>\n",
       "    </tr>\n",
       "    <tr>\n",
       "      <th>16326</th>\n",
       "      <td>Franz Liszt;YUNDI</td>\n",
       "      <td>Relajación y siestas</td>\n",
       "      <td>218346</td>\n",
       "      <td>0</td>\n",
       "      <td>0.163</td>\n",
       "      <td>0.0368</td>\n",
       "      <td>8</td>\n",
       "      <td>1</td>\n",
       "      <td>0.0472</td>\n",
       "      <td>0.991000</td>\n",
       "      <td>0.899000</td>\n",
       "      <td>0.1070</td>\n",
       "      <td>0.0387</td>\n",
       "      <td>69.442</td>\n",
       "      <td>3</td>\n",
       "      <td>classical</td>\n",
       "      <td>0</td>\n",
       "      <td>0.405172</td>\n",
       "    </tr>\n",
       "    <tr>\n",
       "      <th>109799</th>\n",
       "      <td>Scooter</td>\n",
       "      <td>Scooter Forever</td>\n",
       "      <td>173160</td>\n",
       "      <td>0</td>\n",
       "      <td>0.647</td>\n",
       "      <td>0.9210</td>\n",
       "      <td>2</td>\n",
       "      <td>1</td>\n",
       "      <td>0.1850</td>\n",
       "      <td>0.000939</td>\n",
       "      <td>0.371000</td>\n",
       "      <td>0.1310</td>\n",
       "      <td>0.1710</td>\n",
       "      <td>137.981</td>\n",
       "      <td>4</td>\n",
       "      <td>techno</td>\n",
       "      <td>0</td>\n",
       "      <td>40.112002</td>\n",
       "    </tr>\n",
       "  </tbody>\n",
       "</table>\n",
       "</div>"
      ],
      "text/plain": [
       "                           artists            album_name  duration_ms  \\\n",
       "track_unique_id                                                         \n",
       "41996             Love and Rockets      Love and Rockets       211533   \n",
       "76471             Filippa Giordano      Filippa Giordano       196000   \n",
       "54809                Susumu Yokota                Symbol       216506   \n",
       "16326            Franz Liszt;YUNDI  Relajación y siestas       218346   \n",
       "109799                     Scooter       Scooter Forever       173160   \n",
       "\n",
       "                 explicit  danceability  energy  key  mode  speechiness  \\\n",
       "track_unique_id                                                           \n",
       "41996                   0         0.305  0.8490    9     1       0.0549   \n",
       "76471                   0         0.287  0.1900    7     0       0.0370   \n",
       "54809                   0         0.583  0.5090    1     1       0.0362   \n",
       "16326                   0         0.163  0.0368    8     1       0.0472   \n",
       "109799                  0         0.647  0.9210    2     1       0.1850   \n",
       "\n",
       "                 acousticness  instrumentalness  liveness  valence    tempo  \\\n",
       "track_unique_id                                                               \n",
       "41996                0.000058          0.056700    0.4640   0.3200  141.793   \n",
       "76471                0.930000          0.000356    0.0834   0.1330   83.685   \n",
       "54809                0.777000          0.202000    0.1150   0.5440   90.459   \n",
       "16326                0.991000          0.899000    0.1070   0.0387   69.442   \n",
       "109799               0.000939          0.371000    0.1310   0.1710  137.981   \n",
       "\n",
       "                 time_signature track_genre  popularity_target  \\\n",
       "track_unique_id                                                  \n",
       "41996                         4        goth                  0   \n",
       "76471                         4       opera                  0   \n",
       "54809                         3         idm                  1   \n",
       "16326                         3   classical                  0   \n",
       "109799                        4      techno                  0   \n",
       "\n",
       "                 familiar_artists  \n",
       "track_unique_id                    \n",
       "41996                    0.405172  \n",
       "76471                    2.836202  \n",
       "54809                    6.887920  \n",
       "16326                    0.405172  \n",
       "109799                  40.112002  "
      ]
     },
     "execution_count": 3280,
     "metadata": {},
     "output_type": "execute_result"
    }
   ],
   "source": [
    "df.head()"
   ]
  },
  {
   "cell_type": "markdown",
   "metadata": {},
   "source": [
    "&ensp; Agora, verifica-se a correlação das colunas com a target para comparação"
   ]
  },
  {
   "cell_type": "code",
   "execution_count": 3281,
   "metadata": {},
   "outputs": [
    {
     "data": {
      "image/png": "[encoded data removed]",
      "text/plain": [
       "<Figure size 1000x800 with 2 Axes>"
      ]
     },
     "metadata": {},
     "output_type": "display_data"
    }
   ],
   "source": [
    "corr = df.select_dtypes(include='number').corr()\n",
    "\n",
    "mask = mask = np.triu(np.ones_like(corr, dtype=bool))\n",
    "\n",
    "# Criando o heatmap\n",
    "plt.figure(figsize=(10, 8))  # Ajustando o tamanho do gráfico\n",
    "sns.heatmap(corr, annot=True, mask=mask, cmap='coolwarm', vmin=-1, vmax=1, fmt='.2f')\n",
    "\n",
    "# Exibindo o gráfico\n",
    "plt.title('Heatmap da Matriz de Correlação entre as Variáveis')\n",
    "plt.show()"
   ]
  },
  {
   "cell_type": "markdown",
   "metadata": {},
   "source": [
    "&ensp; Comparando-se a correlação de ``familiar_artists`` com ``popularity_target`` acima, observou-se que essa coluna era, na verdade, menos correlacionada com a popularidade do que a maioria das outras. Deste modo, a hipótese se provou incorreta. Porém, a coluna permanecerá para fins de teste do modelo."
   ]
  },
  {
   "cell_type": "markdown",
   "metadata": {},
   "source": [
    "# 5. Processo 4: Normalização e Codificação das Variáveis"
   ]
  },
  {
   "cell_type": "markdown",
   "metadata": {},
   "source": [
    "&ensp; Em tratando-se de aprendizado de máquina, em vias de melhorar a performance de um modelo, aplica-se normalmente à mesma escala à todas as variáveis númericas. Para isso, pode-se utilizar métodos como o MinMax Scaler e o Standard Scaler do Scikit-Learn. Ademais, deve-se compreender que a maioria dos algoritmos não consegue discernir variáveis categóricas. Por essa razão, é essencial transformar quaisquer variáveis categóricas em númericas. Para tanto, normalmente utiliza-se o One-Hot Encoding ou o Label Encoder. Porém, outros métodos podem ser aplicados. Esses dois processos são chamados, respectivamente, normalização e codificação e são demonstrados abaixo. "
   ]
  },
  {
   "cell_type": "markdown",
   "metadata": {},
   "source": [
    "## 5.1. Normalização"
   ]
  },
  {
   "cell_type": "markdown",
   "metadata": {},
   "source": [
    "&ensp; Neste projeto, grande parte das colunas númericas já estão normalizadas em uma escala entre 0 e 1. As únicas exceções são ``duration_ms``, ``key``, ``tempo``, ``familiar_artists`` e ``time_signature``. Aplica-se abaixo o MinMaxScaler em cada uma delas"
   ]
  },
  {
   "cell_type": "code",
   "execution_count": 3282,
   "metadata": {},
   "outputs": [],
   "source": [
    "scaler = MinMaxScaler()"
   ]
  },
  {
   "cell_type": "code",
   "execution_count": 3283,
   "metadata": {},
   "outputs": [],
   "source": [
    "#MinMaxScaler em duration_ms\n",
    "df['duration_ms'] = scaler.fit_transform(df[['duration_ms']])"
   ]
  },
  {
   "cell_type": "code",
   "execution_count": 3284,
   "metadata": {},
   "outputs": [],
   "source": [
    "#MinMaxScaler em key\n",
    "df['key'] = scaler.fit_transform(df[['key']])"
   ]
  },
  {
   "cell_type": "code",
   "execution_count": 3285,
   "metadata": {},
   "outputs": [],
   "source": [
    "#MinMaxScaler em tempo\n",
    "df['tempo'] = scaler.fit_transform(df[['tempo']])"
   ]
  },
  {
   "cell_type": "code",
   "execution_count": 3286,
   "metadata": {},
   "outputs": [],
   "source": [
    "#MinMaxScaler em time_signature\n",
    "df['time_signature'] = scaler.fit_transform(df[['time_signature']])"
   ]
  },
  {
   "cell_type": "code",
   "execution_count": 3287,
   "metadata": {},
   "outputs": [],
   "source": [
    "df['familiar_artists'] = scaler.fit_transform(df[['familiar_artists']])"
   ]
  },
  {
   "cell_type": "code",
   "execution_count": 3288,
   "metadata": {},
   "outputs": [
    {
     "data": {
      "text/html": [
       "<div>\n",
       "<style scoped>\n",
       "    .dataframe tbody tr th:only-of-type {\n",
       "        vertical-align: middle;\n",
       "    }\n",
       "\n",
       "    .dataframe tbody tr th {\n",
       "        vertical-align: top;\n",
       "    }\n",
       "\n",
       "    .dataframe thead th {\n",
       "        text-align: right;\n",
       "    }\n",
       "</style>\n",
       "<table border=\"1\" class=\"dataframe\">\n",
       "  <thead>\n",
       "    <tr style=\"text-align: right;\">\n",
       "      <th></th>\n",
       "      <th>artists</th>\n",
       "      <th>album_name</th>\n",
       "      <th>duration_ms</th>\n",
       "      <th>explicit</th>\n",
       "      <th>danceability</th>\n",
       "      <th>energy</th>\n",
       "      <th>key</th>\n",
       "      <th>mode</th>\n",
       "      <th>speechiness</th>\n",
       "      <th>acousticness</th>\n",
       "      <th>instrumentalness</th>\n",
       "      <th>liveness</th>\n",
       "      <th>valence</th>\n",
       "      <th>tempo</th>\n",
       "      <th>time_signature</th>\n",
       "      <th>track_genre</th>\n",
       "      <th>popularity_target</th>\n",
       "      <th>familiar_artists</th>\n",
       "    </tr>\n",
       "    <tr>\n",
       "      <th>track_unique_id</th>\n",
       "      <th></th>\n",
       "      <th></th>\n",
       "      <th></th>\n",
       "      <th></th>\n",
       "      <th></th>\n",
       "      <th></th>\n",
       "      <th></th>\n",
       "      <th></th>\n",
       "      <th></th>\n",
       "      <th></th>\n",
       "      <th></th>\n",
       "      <th></th>\n",
       "      <th></th>\n",
       "      <th></th>\n",
       "      <th></th>\n",
       "      <th></th>\n",
       "      <th></th>\n",
       "      <th></th>\n",
       "    </tr>\n",
       "  </thead>\n",
       "  <tbody>\n",
       "    <tr>\n",
       "      <th>41996</th>\n",
       "      <td>Love and Rockets</td>\n",
       "      <td>Love and Rockets</td>\n",
       "      <td>0.476456</td>\n",
       "      <td>0</td>\n",
       "      <td>0.305</td>\n",
       "      <td>0.8490</td>\n",
       "      <td>0.818182</td>\n",
       "      <td>1</td>\n",
       "      <td>0.0549</td>\n",
       "      <td>0.000058</td>\n",
       "      <td>0.056700</td>\n",
       "      <td>0.4640</td>\n",
       "      <td>0.3200</td>\n",
       "      <td>0.634891</td>\n",
       "      <td>0.5</td>\n",
       "      <td>goth</td>\n",
       "      <td>0</td>\n",
       "      <td>0.000000</td>\n",
       "    </tr>\n",
       "    <tr>\n",
       "      <th>76471</th>\n",
       "      <td>Filippa Giordano</td>\n",
       "      <td>Filippa Giordano</td>\n",
       "      <td>0.433900</td>\n",
       "      <td>0</td>\n",
       "      <td>0.287</td>\n",
       "      <td>0.1900</td>\n",
       "      <td>0.636364</td>\n",
       "      <td>0</td>\n",
       "      <td>0.0370</td>\n",
       "      <td>0.930000</td>\n",
       "      <td>0.000356</td>\n",
       "      <td>0.0834</td>\n",
       "      <td>0.1330</td>\n",
       "      <td>0.272922</td>\n",
       "      <td>0.5</td>\n",
       "      <td>opera</td>\n",
       "      <td>0</td>\n",
       "      <td>0.033520</td>\n",
       "    </tr>\n",
       "    <tr>\n",
       "      <th>54809</th>\n",
       "      <td>Susumu Yokota</td>\n",
       "      <td>Symbol</td>\n",
       "      <td>0.490081</td>\n",
       "      <td>0</td>\n",
       "      <td>0.583</td>\n",
       "      <td>0.5090</td>\n",
       "      <td>0.090909</td>\n",
       "      <td>1</td>\n",
       "      <td>0.0362</td>\n",
       "      <td>0.777000</td>\n",
       "      <td>0.202000</td>\n",
       "      <td>0.1150</td>\n",
       "      <td>0.5440</td>\n",
       "      <td>0.315119</td>\n",
       "      <td>0.0</td>\n",
       "      <td>idm</td>\n",
       "      <td>1</td>\n",
       "      <td>0.089385</td>\n",
       "    </tr>\n",
       "    <tr>\n",
       "      <th>16326</th>\n",
       "      <td>Franz Liszt;YUNDI</td>\n",
       "      <td>Relajación y siestas</td>\n",
       "      <td>0.495122</td>\n",
       "      <td>0</td>\n",
       "      <td>0.163</td>\n",
       "      <td>0.0368</td>\n",
       "      <td>0.727273</td>\n",
       "      <td>1</td>\n",
       "      <td>0.0472</td>\n",
       "      <td>0.991000</td>\n",
       "      <td>0.899000</td>\n",
       "      <td>0.1070</td>\n",
       "      <td>0.0387</td>\n",
       "      <td>0.184199</td>\n",
       "      <td>0.0</td>\n",
       "      <td>classical</td>\n",
       "      <td>0</td>\n",
       "      <td>0.000000</td>\n",
       "    </tr>\n",
       "    <tr>\n",
       "      <th>109799</th>\n",
       "      <td>Scooter</td>\n",
       "      <td>Scooter Forever</td>\n",
       "      <td>0.371325</td>\n",
       "      <td>0</td>\n",
       "      <td>0.647</td>\n",
       "      <td>0.9210</td>\n",
       "      <td>0.181818</td>\n",
       "      <td>1</td>\n",
       "      <td>0.1850</td>\n",
       "      <td>0.000939</td>\n",
       "      <td>0.371000</td>\n",
       "      <td>0.1310</td>\n",
       "      <td>0.1710</td>\n",
       "      <td>0.611145</td>\n",
       "      <td>0.5</td>\n",
       "      <td>techno</td>\n",
       "      <td>0</td>\n",
       "      <td>0.547486</td>\n",
       "    </tr>\n",
       "  </tbody>\n",
       "</table>\n",
       "</div>"
      ],
      "text/plain": [
       "                           artists            album_name  duration_ms  \\\n",
       "track_unique_id                                                         \n",
       "41996             Love and Rockets      Love and Rockets     0.476456   \n",
       "76471             Filippa Giordano      Filippa Giordano     0.433900   \n",
       "54809                Susumu Yokota                Symbol     0.490081   \n",
       "16326            Franz Liszt;YUNDI  Relajación y siestas     0.495122   \n",
       "109799                     Scooter       Scooter Forever     0.371325   \n",
       "\n",
       "                 explicit  danceability  energy       key  mode  speechiness  \\\n",
       "track_unique_id                                                                \n",
       "41996                   0         0.305  0.8490  0.818182     1       0.0549   \n",
       "76471                   0         0.287  0.1900  0.636364     0       0.0370   \n",
       "54809                   0         0.583  0.5090  0.090909     1       0.0362   \n",
       "16326                   0         0.163  0.0368  0.727273     1       0.0472   \n",
       "109799                  0         0.647  0.9210  0.181818     1       0.1850   \n",
       "\n",
       "                 acousticness  instrumentalness  liveness  valence     tempo  \\\n",
       "track_unique_id                                                                \n",
       "41996                0.000058          0.056700    0.4640   0.3200  0.634891   \n",
       "76471                0.930000          0.000356    0.0834   0.1330  0.272922   \n",
       "54809                0.777000          0.202000    0.1150   0.5440  0.315119   \n",
       "16326                0.991000          0.899000    0.1070   0.0387  0.184199   \n",
       "109799               0.000939          0.371000    0.1310   0.1710  0.611145   \n",
       "\n",
       "                 time_signature track_genre  popularity_target  \\\n",
       "track_unique_id                                                  \n",
       "41996                       0.5        goth                  0   \n",
       "76471                       0.5       opera                  0   \n",
       "54809                       0.0         idm                  1   \n",
       "16326                       0.0   classical                  0   \n",
       "109799                      0.5      techno                  0   \n",
       "\n",
       "                 familiar_artists  \n",
       "track_unique_id                    \n",
       "41996                    0.000000  \n",
       "76471                    0.033520  \n",
       "54809                    0.089385  \n",
       "16326                    0.000000  \n",
       "109799                   0.547486  "
      ]
     },
     "execution_count": 3288,
     "metadata": {},
     "output_type": "execute_result"
    }
   ],
   "source": [
    "df.head()"
   ]
  },
  {
   "cell_type": "markdown",
   "metadata": {},
   "source": [
    "&ensp; Agora, todas as colunas numéricas estão devidamente normalizadas."
   ]
  },
  {
   "cell_type": "markdown",
   "metadata": {},
   "source": [
    "## 5.2. Codificação de Variáveis"
   ]
  },
  {
   "cell_type": "markdown",
   "metadata": {},
   "source": [
    "&ensp; A codificação das variáveis pode ser feita de diferentes formas. Uma delas é transformar cada um dos possíveis valores únicos de uma coluna categórica em uma coluna utilizando o One-Hot Enconding. Entretanto, este nível de detalhe no contexto musical atrapalha a generalização do modelo preditivo, pois pode causar a \"Maldição da Dimensionalidade\". Outra maneira é associar cada um dos valores únicos a um código, esta é a forma que o Label Encoder lida com a transformação de variáveis categóricas em númericas. Entretanto, essa maneira pressupõe uma ordem nos dados que não existe nos casos das variáveis categóricas presentes. \n",
    "\n",
    "&ensp; Sendo assim, optou-se por uma forma diferente de codificação. Substituir-se-á os valores nas colunas ``artists``, ``album_name`` e ``track_genre`` pela probabilidade desses valores serem populares. Isso pode parecer improdutivo, já que geraria um overfit nos dados. Entretanto, deve-se considerar que se trata apenas de uma probabilidade e que, portanto, é incapaz de afirmar com certeza se um dado é ou não popular.\n",
    "\n",
    "&ensp; Esta solução foi criada para integrar ao modelo a conclusão tirada na hipótese 2 proposta neste documento: o artista é muito mais importante que as características musicais. No entanto, deve-se considerar três fatores para a sua implementação. Esses fatores são esboçados abaixo usando o exemplo do nome do artista:\n",
    "\n",
    "1. Se todas as músicas de um artista no banco de dados são populares, então a probabilidade associada ao seu nome será 1, mesmo que se trate de um artista pequeno em que apenas uma música ficou famosa.\n",
    "2. Se todas as músicas de um artista no banco de dados não são populares, então a probabilidade associada ao seu nome será 0, mesmo que se tomadas outras músicas em consideração haja músicas populares deste artista.\n",
    "3. Artistas pequenos terão probabilidades super-dimensionadas no banco de dados."
   ]
  },
  {
   "cell_type": "markdown",
   "metadata": {},
   "source": [
    "&ensp; Ponderando acerca desses fatores e na tentativa de não gerar um overfit no modelo, resolveu-se por adicionar 1 no numerador do cálculo da probabilidade (nenhum artista terá probabilidade zero) e 2 no denominador (nenhum artista terá probabilidade igual a 1). Esta forma de codificação é feita abaixo"
   ]
  },
  {
   "cell_type": "code",
   "execution_count": 3289,
   "metadata": {},
   "outputs": [],
   "source": [
    "def codificador_probabilidade(df, nome_coluna, target):\n",
    "    resultado = df.groupby(nome_coluna).apply(\n",
    "        lambda x: ((x[target].sum() + 1) / (len(x) + 2) ) \n",
    "    ).rename('percentual_popular')\n",
    "    return resultado"
   ]
  },
  {
   "cell_type": "markdown",
   "metadata": {},
   "source": [
    "&ensp; Após criar essa função codificadora, cria-se três *DataFrames* para referência e transforma-se as colunas no `df` original."
   ]
  },
  {
   "cell_type": "code",
   "execution_count": 3290,
   "metadata": {},
   "outputs": [
    {
     "name": "stderr",
     "output_type": "stream",
     "text": [
      "C:\\Users\\Inteli\\AppData\\Local\\Temp\\ipykernel_17132\\3490878094.py:2: DeprecationWarning: DataFrameGroupBy.apply operated on the grouping columns. This behavior is deprecated, and in a future version of pandas the grouping columns will be excluded from the operation. Either pass `include_groups=False` to exclude the groupings or explicitly select the grouping columns after groupby to silence this warning.\n",
      "  resultado = df.groupby(nome_coluna).apply(\n",
      "C:\\Users\\Inteli\\AppData\\Local\\Temp\\ipykernel_17132\\3490878094.py:2: DeprecationWarning: DataFrameGroupBy.apply operated on the grouping columns. This behavior is deprecated, and in a future version of pandas the grouping columns will be excluded from the operation. Either pass `include_groups=False` to exclude the groupings or explicitly select the grouping columns after groupby to silence this warning.\n",
      "  resultado = df.groupby(nome_coluna).apply(\n",
      "C:\\Users\\Inteli\\AppData\\Local\\Temp\\ipykernel_17132\\3490878094.py:2: DeprecationWarning: DataFrameGroupBy.apply operated on the grouping columns. This behavior is deprecated, and in a future version of pandas the grouping columns will be excluded from the operation. Either pass `include_groups=False` to exclude the groupings or explicitly select the grouping columns after groupby to silence this warning.\n",
      "  resultado = df.groupby(nome_coluna).apply(\n"
     ]
    }
   ],
   "source": [
    "resultado_artists = codificador_probabilidade(df, 'artists', 'popularity_target')\n",
    "resultado_album_name = codificador_probabilidade(df, 'album_name', 'popularity_target')\n",
    "resultado_track_genre = codificador_probabilidade(df, 'track_genre', 'popularity_target')"
   ]
  },
  {
   "cell_type": "code",
   "execution_count": 3291,
   "metadata": {},
   "outputs": [],
   "source": [
    "df['artists'] = df['artists'].map(resultado_artists)\n",
    "df['album_name'] = df['album_name'].map(resultado_album_name)\n",
    "df['track_genre'] = df['track_genre'].map(resultado_track_genre)"
   ]
  },
  {
   "cell_type": "markdown",
   "metadata": {},
   "source": [
    "&ensp; Esses processos de normalização resultaram no seguinte `df`."
   ]
  },
  {
   "cell_type": "code",
   "execution_count": 3292,
   "metadata": {},
   "outputs": [
    {
     "data": {
      "text/html": [
       "<div>\n",
       "<style scoped>\n",
       "    .dataframe tbody tr th:only-of-type {\n",
       "        vertical-align: middle;\n",
       "    }\n",
       "\n",
       "    .dataframe tbody tr th {\n",
       "        vertical-align: top;\n",
       "    }\n",
       "\n",
       "    .dataframe thead th {\n",
       "        text-align: right;\n",
       "    }\n",
       "</style>\n",
       "<table border=\"1\" class=\"dataframe\">\n",
       "  <thead>\n",
       "    <tr style=\"text-align: right;\">\n",
       "      <th></th>\n",
       "      <th>artists</th>\n",
       "      <th>album_name</th>\n",
       "      <th>duration_ms</th>\n",
       "      <th>explicit</th>\n",
       "      <th>danceability</th>\n",
       "      <th>energy</th>\n",
       "      <th>key</th>\n",
       "      <th>mode</th>\n",
       "      <th>speechiness</th>\n",
       "      <th>acousticness</th>\n",
       "      <th>instrumentalness</th>\n",
       "      <th>liveness</th>\n",
       "      <th>valence</th>\n",
       "      <th>tempo</th>\n",
       "      <th>time_signature</th>\n",
       "      <th>track_genre</th>\n",
       "      <th>popularity_target</th>\n",
       "      <th>familiar_artists</th>\n",
       "    </tr>\n",
       "    <tr>\n",
       "      <th>track_unique_id</th>\n",
       "      <th></th>\n",
       "      <th></th>\n",
       "      <th></th>\n",
       "      <th></th>\n",
       "      <th></th>\n",
       "      <th></th>\n",
       "      <th></th>\n",
       "      <th></th>\n",
       "      <th></th>\n",
       "      <th></th>\n",
       "      <th></th>\n",
       "      <th></th>\n",
       "      <th></th>\n",
       "      <th></th>\n",
       "      <th></th>\n",
       "      <th></th>\n",
       "      <th></th>\n",
       "      <th></th>\n",
       "    </tr>\n",
       "  </thead>\n",
       "  <tbody>\n",
       "    <tr>\n",
       "      <th>41996</th>\n",
       "      <td>0.333333</td>\n",
       "      <td>0.333333</td>\n",
       "      <td>0.476456</td>\n",
       "      <td>0</td>\n",
       "      <td>0.305</td>\n",
       "      <td>0.8490</td>\n",
       "      <td>0.818182</td>\n",
       "      <td>1</td>\n",
       "      <td>0.0549</td>\n",
       "      <td>0.000058</td>\n",
       "      <td>0.056700</td>\n",
       "      <td>0.4640</td>\n",
       "      <td>0.3200</td>\n",
       "      <td>0.634891</td>\n",
       "      <td>0.5</td>\n",
       "      <td>0.191104</td>\n",
       "      <td>0</td>\n",
       "      <td>0.000000</td>\n",
       "    </tr>\n",
       "    <tr>\n",
       "      <th>76471</th>\n",
       "      <td>0.111111</td>\n",
       "      <td>0.250000</td>\n",
       "      <td>0.433900</td>\n",
       "      <td>0</td>\n",
       "      <td>0.287</td>\n",
       "      <td>0.1900</td>\n",
       "      <td>0.636364</td>\n",
       "      <td>0</td>\n",
       "      <td>0.0370</td>\n",
       "      <td>0.930000</td>\n",
       "      <td>0.000356</td>\n",
       "      <td>0.0834</td>\n",
       "      <td>0.1330</td>\n",
       "      <td>0.272922</td>\n",
       "      <td>0.5</td>\n",
       "      <td>0.169231</td>\n",
       "      <td>0</td>\n",
       "      <td>0.033520</td>\n",
       "    </tr>\n",
       "    <tr>\n",
       "      <th>54809</th>\n",
       "      <td>0.315789</td>\n",
       "      <td>0.750000</td>\n",
       "      <td>0.490081</td>\n",
       "      <td>0</td>\n",
       "      <td>0.583</td>\n",
       "      <td>0.5090</td>\n",
       "      <td>0.090909</td>\n",
       "      <td>1</td>\n",
       "      <td>0.0362</td>\n",
       "      <td>0.777000</td>\n",
       "      <td>0.202000</td>\n",
       "      <td>0.1150</td>\n",
       "      <td>0.5440</td>\n",
       "      <td>0.315119</td>\n",
       "      <td>0.0</td>\n",
       "      <td>0.096183</td>\n",
       "      <td>1</td>\n",
       "      <td>0.089385</td>\n",
       "    </tr>\n",
       "    <tr>\n",
       "      <th>16326</th>\n",
       "      <td>0.333333</td>\n",
       "      <td>0.043478</td>\n",
       "      <td>0.495122</td>\n",
       "      <td>0</td>\n",
       "      <td>0.163</td>\n",
       "      <td>0.0368</td>\n",
       "      <td>0.727273</td>\n",
       "      <td>1</td>\n",
       "      <td>0.0472</td>\n",
       "      <td>0.991000</td>\n",
       "      <td>0.899000</td>\n",
       "      <td>0.1070</td>\n",
       "      <td>0.0387</td>\n",
       "      <td>0.184199</td>\n",
       "      <td>0.0</td>\n",
       "      <td>0.114447</td>\n",
       "      <td>0</td>\n",
       "      <td>0.000000</td>\n",
       "    </tr>\n",
       "    <tr>\n",
       "      <th>109799</th>\n",
       "      <td>0.069307</td>\n",
       "      <td>0.200000</td>\n",
       "      <td>0.371325</td>\n",
       "      <td>0</td>\n",
       "      <td>0.647</td>\n",
       "      <td>0.9210</td>\n",
       "      <td>0.181818</td>\n",
       "      <td>1</td>\n",
       "      <td>0.1850</td>\n",
       "      <td>0.000939</td>\n",
       "      <td>0.371000</td>\n",
       "      <td>0.1310</td>\n",
       "      <td>0.1710</td>\n",
       "      <td>0.611145</td>\n",
       "      <td>0.5</td>\n",
       "      <td>0.650391</td>\n",
       "      <td>0</td>\n",
       "      <td>0.547486</td>\n",
       "    </tr>\n",
       "  </tbody>\n",
       "</table>\n",
       "</div>"
      ],
      "text/plain": [
       "                  artists  album_name  duration_ms  explicit  danceability  \\\n",
       "track_unique_id                                                              \n",
       "41996            0.333333    0.333333     0.476456         0         0.305   \n",
       "76471            0.111111    0.250000     0.433900         0         0.287   \n",
       "54809            0.315789    0.750000     0.490081         0         0.583   \n",
       "16326            0.333333    0.043478     0.495122         0         0.163   \n",
       "109799           0.069307    0.200000     0.371325         0         0.647   \n",
       "\n",
       "                 energy       key  mode  speechiness  acousticness  \\\n",
       "track_unique_id                                                      \n",
       "41996            0.8490  0.818182     1       0.0549      0.000058   \n",
       "76471            0.1900  0.636364     0       0.0370      0.930000   \n",
       "54809            0.5090  0.090909     1       0.0362      0.777000   \n",
       "16326            0.0368  0.727273     1       0.0472      0.991000   \n",
       "109799           0.9210  0.181818     1       0.1850      0.000939   \n",
       "\n",
       "                 instrumentalness  liveness  valence     tempo  \\\n",
       "track_unique_id                                                  \n",
       "41996                    0.056700    0.4640   0.3200  0.634891   \n",
       "76471                    0.000356    0.0834   0.1330  0.272922   \n",
       "54809                    0.202000    0.1150   0.5440  0.315119   \n",
       "16326                    0.899000    0.1070   0.0387  0.184199   \n",
       "109799                   0.371000    0.1310   0.1710  0.611145   \n",
       "\n",
       "                 time_signature  track_genre  popularity_target  \\\n",
       "track_unique_id                                                   \n",
       "41996                       0.5     0.191104                  0   \n",
       "76471                       0.5     0.169231                  0   \n",
       "54809                       0.0     0.096183                  1   \n",
       "16326                       0.0     0.114447                  0   \n",
       "109799                      0.5     0.650391                  0   \n",
       "\n",
       "                 familiar_artists  \n",
       "track_unique_id                    \n",
       "41996                    0.000000  \n",
       "76471                    0.033520  \n",
       "54809                    0.089385  \n",
       "16326                    0.000000  \n",
       "109799                   0.547486  "
      ]
     },
     "execution_count": 3292,
     "metadata": {},
     "output_type": "execute_result"
    }
   ],
   "source": [
    "df.head()"
   ]
  },
  {
   "cell_type": "markdown",
   "metadata": {},
   "source": [
    "&ensp; A próxima etapa, portanto, é a seleção de features."
   ]
  },
  {
   "cell_type": "markdown",
   "metadata": {},
   "source": [
    "# 6. Processo 5: Seleção de Features"
   ]
  },
  {
   "cell_type": "markdown",
   "metadata": {},
   "source": [
    "&ensp; Após normalizar todas as variáveis, começamos o processo de seleção de feature. Esse processo pode ser feito com base nas correlações encontradas anteriormente, porém elas não revelaram resultados significativos. Nesse sentido, preferiu-se utilizar o método `mutual_info_classif()`, o qual utiliza aspectos da teoria da informação para calcular a informação mútua entre variáveis independentes (features) e o alvo (target). Desta forma, ele calcula um *score* para cada variável que vai de 0 à 1. Vê-se a aplicação deste método abaixo."
   ]
  },
  {
   "cell_type": "code",
   "execution_count": 3293,
   "metadata": {},
   "outputs": [],
   "source": [
    "# Cria uma cópia do df para selecionar as features\n",
    "df_train = df.copy()"
   ]
  },
  {
   "cell_type": "code",
   "execution_count": 3294,
   "metadata": {},
   "outputs": [],
   "source": [
    "y = df_train['popularity_target']\n",
    "X = df_train.drop(columns='popularity_target')"
   ]
  },
  {
   "cell_type": "code",
   "execution_count": 3295,
   "metadata": {},
   "outputs": [
    {
     "name": "stdout",
     "output_type": "stream",
     "text": [
      "             Feature  MI_Score\n",
      "1         album_name  0.618258\n",
      "0            artists  0.509244\n",
      "15       track_genre  0.232707\n",
      "16  familiar_artists  0.023662\n",
      "2        duration_ms  0.016554\n",
      "13             tempo  0.016049\n",
      "9       acousticness  0.015872\n",
      "5             energy  0.012337\n",
      "10  instrumentalness  0.010741\n",
      "4       danceability  0.010633\n",
      "14    time_signature  0.009350\n",
      "8        speechiness  0.008713\n",
      "12           valence  0.001440\n",
      "11          liveness  0.000977\n",
      "3           explicit  0.000345\n",
      "7               mode  0.000089\n",
      "6                key  0.000000\n"
     ]
    }
   ],
   "source": [
    "feature_scores = mutual_info_classif(X, y, discrete_features=[3, 7], random_state=42, n_jobs=-1)\n",
    "\n",
    "feature_wscores = pd.DataFrame({\n",
    "    'Feature': X.columns,  # Nome das colunas (features)\n",
    "    'MI_Score': feature_scores   # Escores de informação mútua\n",
    "})\n",
    "\n",
    "feature_wscores = feature_wscores.sort_values(by='MI_Score', ascending=False)\n",
    "\n",
    "print(feature_wscores)"
   ]
  },
  {
   "cell_type": "markdown",
   "metadata": {},
   "source": [
    "&ensp; Os resultados acima estão em ordem de *feature* mais informativa para *feature* menos informativa. Entretanto, deve-se notar que devido à codificação feita (baseada na probabilidade), eram esperadas as primeiras três variáveis. Isso, provavelmente não será o caso para o conjunto de testes, no qual nem todos os artistas presentes nesta base estão presentes naquela. Sendo assim, para não enviesar a predição, usar-se-á as primeiras 8 features (5 sem vieses e 3 com viés). Estas são:"
   ]
  },
  {
   "cell_type": "code",
   "execution_count": 3296,
   "metadata": {},
   "outputs": [
    {
     "data": {
      "text/plain": [
       "1           album_name\n",
       "0              artists\n",
       "15         track_genre\n",
       "16    familiar_artists\n",
       "2          duration_ms\n",
       "13               tempo\n",
       "9         acousticness\n",
       "5               energy\n",
       "Name: Feature, dtype: object"
      ]
     },
     "execution_count": 3296,
     "metadata": {},
     "output_type": "execute_result"
    }
   ],
   "source": [
    "feature_wscores['Feature'][:8]"
   ]
  },
  {
   "cell_type": "code",
   "execution_count": 3297,
   "metadata": {},
   "outputs": [],
   "source": [
    "X = X.drop(columns=['instrumentalness', 'speechiness', 'danceability', 'time_signature',  'valence', 'liveness', 'explicit', 'mode', 'key'])"
   ]
  },
  {
   "cell_type": "markdown",
   "metadata": {},
   "source": [
    "# 7. Processo 6: Construção e Avaliação do Modelo"
   ]
  },
  {
   "cell_type": "markdown",
   "metadata": {},
   "source": [
    "&ensp; Para este projeto, foi selecionado o modelo Random Forest habilitado pelo Scikit-Learn. Esse método combina diversas Decision Trees e escolhe, para cada predição, o resultado mais frequente (SCIKIT-LEARN, 2018). Além disso, esse modelo possui alta explicabilidade, o que auxilia o processo de apresentação de resultados. Abaixo, verifica-se a aplicação dele em nosso conjunto de dados."
   ]
  },
  {
   "cell_type": "markdown",
   "metadata": {},
   "source": [
    "&ensp; Primeiro, é necessário separar parte do banco de dados para teste. Uma maneira de fazer isso é usando o método `train_test_split()` do Scikit-Learn."
   ]
  },
  {
   "cell_type": "code",
   "execution_count": 3298,
   "metadata": {},
   "outputs": [],
   "source": [
    "X_train, X_test, y_train, y_test = train_test_split(X, y, test_size=0.33, random_state=42)"
   ]
  },
  {
   "cell_type": "markdown",
   "metadata": {},
   "source": [
    "&ensp; Subsequentemente, aplica-se o modelo."
   ]
  },
  {
   "cell_type": "code",
   "execution_count": 3299,
   "metadata": {},
   "outputs": [],
   "source": [
    "clf = RandomForestClassifier(max_depth=2, random_state=42)\n",
    "\n",
    "clf.fit(X_train, y_train)\n",
    "\n",
    "y_pred = clf.predict(X_test)"
   ]
  },
  {
   "cell_type": "markdown",
   "metadata": {},
   "source": [
    "&ensp; Para a avaliação do modelo, abaixo, faz-se uma matriz de confusão, um relatório das métricas e o resultado da acurácia final."
   ]
  },
  {
   "cell_type": "code",
   "execution_count": 3300,
   "metadata": {},
   "outputs": [
    {
     "name": "stdout",
     "output_type": "stream",
     "text": [
      "              precision    recall  f1-score   support\n",
      "\n",
      "           0       0.97      0.98      0.97     10632\n",
      "           1       0.98      0.97      0.97     10361\n",
      "\n",
      "    accuracy                           0.97     20993\n",
      "   macro avg       0.97      0.97      0.97     20993\n",
      "weighted avg       0.97      0.97      0.97     20993\n",
      "\n"
     ]
    }
   ],
   "source": [
    "print(classification_report(y_test, y_pred))"
   ]
  },
  {
   "cell_type": "code",
   "execution_count": 3301,
   "metadata": {},
   "outputs": [
    {
     "data": {
      "image/png": "[encoded data removed]",
      "text/plain": [
       "<Figure size 400x600 with 1 Axes>"
      ]
     },
     "metadata": {},
     "output_type": "display_data"
    }
   ],
   "source": [
    "cm = confusion_matrix(y_test, y_pred)\n",
    "\n",
    "plt.figure(figsize=(4,6))\n",
    "sns.heatmap(cm, annot=True, fmt='d', cmap='Blues', cbar=False)\n",
    "\n",
    "# Add labels and title\n",
    "plt.xlabel('Popularidade Prevista')\n",
    "plt.ylabel('Popularidade Verdadeira')\n",
    "plt.title('Confusion Matrix para Popularidade')\n",
    "plt.show()"
   ]
  },
  {
   "cell_type": "code",
   "execution_count": 3302,
   "metadata": {},
   "outputs": [
    {
     "name": "stdout",
     "output_type": "stream",
     "text": [
      "0.9727051874434335\n"
     ]
    }
   ],
   "source": [
    "print(accuracy_score(y_test, y_pred))"
   ]
  },
  {
   "cell_type": "markdown",
   "metadata": {},
   "source": [
    "&ensp; Baseado nas métricas exibidas, vê-se que o resultado da acurácia foi ótimo: 97.3%. Além disso, o alto valor para precisão identifica que o modelo é capaz de classificar corretamente 97.5% das classes positivas, ou seja, há poucos falsos positivos. A sensibilidade do modelo, por sua vez, expõe que ele foi muito bom em identificar instâncias positivas, de modo que há poucos falso negativos. Essas altas métricas compostas explicam o alto valor do F1-Score de 97%, o qual representa a média harmônica entre precisão e sensibilidade. Conclui-se, portanto, que este foi um ótimo modelo. Entretanto, para melhorá-lo ainda mais, faz-se o ajuste de hiperparâmetros abaixo."
   ]
  },
  {
   "cell_type": "markdown",
   "metadata": {},
   "source": [
    "# 8. Processo 7: Ajuste de Hiperparâmetros"
   ]
  },
  {
   "cell_type": "markdown",
   "metadata": {},
   "source": [
    "&ensp; Para o ajuste de hiperparâmetros, pode-se usar dois métodos do Scikit-Learn: o GridSearch e o Randomized Search. O primeiro faz uma busca exaustiva no intervalo passado pelo usuário. Já o segundo faz uma busca aleatória no intervalo passado. Para este projeto, optou-se pelo segundo, dado que este modelo já apresenta ótimos resultados, o que não compensaria o alto poder computacional necessário para o primeiro. Faz-se esse proceso abaixo."
   ]
  },
  {
   "cell_type": "markdown",
   "metadata": {},
   "source": [
    "&ensp; O RandomForest possui os seguintes hiperparâmetros principais:\n",
    "- n_estimators - Define o número de Decision Trees do modelo;\n",
    "- criterion - Define a função que mede a qualidade do modelo. Os possíveis valores são \"gini\", \"entropy\" e \"log_loss\";\n",
    "- max_depth - Define a profundidade máxima de uma Decision Tree;\n",
    "- min_samples_split - Define o número mínimo de amostras para dividir um nó;\n",
    "\n",
    "&ensp; Abaixo, testa-se diferentes combinações deles."
   ]
  },
  {
   "cell_type": "code",
   "execution_count": 3303,
   "metadata": {},
   "outputs": [
    {
     "name": "stdout",
     "output_type": "stream",
     "text": [
      "Fitting 3 folds for each of 100 candidates, totalling 300 fits\n",
      "Melhores parâmetros: {'n_estimators': np.int64(110), 'min_samples_split': 5, 'max_depth': np.int64(9), 'criterion': 'entropy'}\n"
     ]
    }
   ],
   "source": [
    "parametros =  { \n",
    "    'n_estimators': np.arange(10, 200, 50),\n",
    "    'criterion': ['gini', 'entropy', 'log_loss'],\n",
    "    'max_depth': np.arange(3, 10, 1),\n",
    "    'min_samples_split': [2, 5, 10], \n",
    "}\n",
    "\n",
    "clf_ajustado = RandomForestClassifier(random_state=42)\n",
    "\n",
    "random_search = RandomizedSearchCV(\n",
    "    estimator=clf_ajustado, \n",
    "    param_distributions=parametros, \n",
    "    n_iter=100, \n",
    "    cv=3, \n",
    "    verbose=3,  # exibir progresso no terminal\n",
    "    random_state=42, \n",
    "    n_jobs=-1\n",
    ")\n",
    "\n",
    "random_search.fit(X_train, y_train)\n",
    "\n",
    "print(\"Melhores parâmetros:\", random_search.best_params_)"
   ]
  },
  {
   "cell_type": "markdown",
   "metadata": {},
   "source": [
    "&ensp; Após obter os melhores hiperparâmetros, testa-se novamente no modelo para se obter novas métricas e verificar que se funcionou o ajuste. Caso não tenha funcionado, manteremos o modelo sem ajustes encontrado anteriormente"
   ]
  },
  {
   "cell_type": "code",
   "execution_count": 3304,
   "metadata": {},
   "outputs": [
    {
     "name": "stdout",
     "output_type": "stream",
     "text": [
      "              precision    recall  f1-score   support\n",
      "\n",
      "           0       0.97      0.98      0.98     10632\n",
      "           1       0.98      0.97      0.98     10361\n",
      "\n",
      "    accuracy                           0.98     20993\n",
      "   macro avg       0.98      0.98      0.98     20993\n",
      "weighted avg       0.98      0.98      0.98     20993\n",
      "\n"
     ]
    }
   ],
   "source": [
    "y_pred_ajustado = random_search.predict(X_test)\n",
    "\n",
    "print(classification_report(y_test, y_pred_ajustado))"
   ]
  },
  {
   "cell_type": "markdown",
   "metadata": {},
   "source": [
    "&ensp; Vê-se, a partir dos resultados acima que o f1-score melhorou. Tratemos agora da acurácia."
   ]
  },
  {
   "cell_type": "code",
   "execution_count": 3305,
   "metadata": {},
   "outputs": [
    {
     "name": "stdout",
     "output_type": "stream",
     "text": [
      "0.9764683465917211\n"
     ]
    }
   ],
   "source": [
    "print(accuracy_score(y_test, y_pred_ajustado))"
   ]
  },
  {
   "cell_type": "markdown",
   "metadata": {},
   "source": [
    "&ensp; A acurácia aumentou de 97.2% para 97.6%. Destarte, este modelo, cujos hiperparâmetros foram ajustados será escolhido."
   ]
  },
  {
   "cell_type": "markdown",
   "metadata": {},
   "source": [
    "# 9. Aplicação na Base de Teste"
   ]
  },
  {
   "cell_type": "markdown",
   "metadata": {},
   "source": [
    "&ensp; Até agora, o banco de dados para treino foi criado, explorado, pré-processado, aplicado no modelo RandomForest e, assim, obteve uma acurácia de 97.6%. Essa acurácia alta, apesar de benéfica, fornece evidências para um overfit nesta base de dados. Porém, deve-se encarar esta aplicação como um treino para o verdadeiro teste que será realizado abaixo. Aplicaremos os mesmos métodos aqui expostos em uma base diferente - mas com as mesmas features - para analisar se o modelo é mesmo capaz de prever o próximo hit do Spotify."
   ]
  },
  {
   "cell_type": "code",
   "execution_count": 3358,
   "metadata": {},
   "outputs": [],
   "source": [
    "#Lendo a base de dados\n",
    "df_teste = pd.read_csv('test.csv', index_col='track_unique_id')"
   ]
  },
  {
   "cell_type": "code",
   "execution_count": 3359,
   "metadata": {},
   "outputs": [],
   "source": [
    "#Outliers\n",
    "df_teste.loc[df_teste['time_signature'].isin([0,1]), 'time_signature'] = df_teste['time_signature'].mode()[0]\n",
    "df_teste.drop(columns=['loudness', 'track_id'], inplace=True)\n",
    "df_teste.loc[df_teste['tempo'] <= 0, 'tempo'] = df_teste['tempo'].median()\n",
    "df_teste['explicit'] = df_teste['explicit'].astype(int)"
   ]
  },
  {
   "cell_type": "code",
   "execution_count": 3360,
   "metadata": {},
   "outputs": [],
   "source": [
    "# Outliers para Duration\n",
    "iqr = df_teste['duration_ms'].quantile(0.75) - df_teste['duration_ms'].quantile(0.25)\n",
    "q1 = df_teste['duration_ms'].quantile(0.25)\n",
    "q3 = df_teste['duration_ms'].quantile(0.75)\n",
    "df_teste.loc[df_teste['duration_ms'] >= (q3 + 1.5 * iqr), 'duration_ms'] = q3\n",
    "df_teste.loc[df_teste['duration_ms'] <= (q1 - 1.5 * iqr), 'duration_ms'] = q1\n",
    "\n",
    "# Outliers para Tempo\n",
    "iqr = df_teste['tempo'].quantile(0.75) - df_teste['tempo'].quantile(0.25)\n",
    "q1 = df_teste['tempo'].quantile(0.25)\n",
    "q3 = df_teste['tempo'].quantile(0.75)\n",
    "df_teste.loc[df_teste['tempo'] >= (q3 + 1.5 * iqr), 'tempo'] = q3\n",
    "df_teste.loc[df_teste['tempo'] <= (q1 - 1.5 * iqr), 'tempo'] = q1"
   ]
  },
  {
   "cell_type": "code",
   "execution_count": 3361,
   "metadata": {},
   "outputs": [],
   "source": [
    "# Criação de familiar artists\n",
    "musicas_por_artista_teste = df_teste['artists'].fillna('Unknown').value_counts()\n",
    "media_musicas_por_artista_teste = musicas_por_artista_teste.mean()\n",
    "df_teste['familiar_artists'] = df_teste['artists'].map(\n",
    "    lambda x: musicas_por_artista_teste.get(x, 0) / media_musicas_por_artista_teste\n",
    ")\n",
    "\n",
    "df_teste = df_teste.drop(columns=['track_name'])"
   ]
  },
  {
   "cell_type": "code",
   "execution_count": 3362,
   "metadata": {},
   "outputs": [],
   "source": [
    "# Normalização\n",
    "df_teste['duration_ms'] = scaler.fit_transform(df_teste[['duration_ms']])\n",
    "df_teste['key'] = scaler.fit_transform(df_teste[['key']])\n",
    "df_teste['tempo'] = scaler.fit_transform(df_teste[['tempo']])\n",
    "df_teste['time_signature'] = scaler.fit_transform(df_teste[['time_signature']])\n",
    "df_teste['familiar_artists'] = scaler.fit_transform(df_teste[['familiar_artists']])"
   ]
  },
  {
   "cell_type": "markdown",
   "metadata": {},
   "source": [
    "&ensp; Entretanto, quando apresentados à codificação das colunas `album_name`, `artists` e `track_genre` nos deparamos com um problema: a falta da coluna popularidade. Sendo assim, trataremos os resultados antigos como um histórico de probabilidade e qualquer novo artista, nome de álbum ou gênero que aparecer terá a probabilidade padrão de 0.5. Para tanto, utiliza-se `fillna(0.5)`."
   ]
  },
  {
   "cell_type": "code",
   "execution_count": 3363,
   "metadata": {},
   "outputs": [],
   "source": [
    "#Codificação com histórico de probabilidade\n",
    "df_teste['artists'] = df_teste['artists'].fillna('Unknown').map(resultado_artists).fillna(0.5)\n",
    "df_teste['album_name'] = df_teste['album_name'].fillna('Unknown').map(resultado_album_name).fillna(0.5)\n",
    "df_teste['track_genre'] = df_teste['track_genre'].fillna('Unknown').map(resultado_track_genre).fillna(0.5)"
   ]
  },
  {
   "cell_type": "markdown",
   "metadata": {},
   "source": [
    "&ensp; Então, seleciona-se as features e aplica-se o modelo."
   ]
  },
  {
   "cell_type": "code",
   "execution_count": 3364,
   "metadata": {},
   "outputs": [],
   "source": [
    "#Seleção de Features\n",
    "X_do_teste = df_teste.drop(columns=['instrumentalness', 'speechiness', 'danceability', 'time_signature',  'valence', 'liveness', 'explicit', 'mode', 'key'])"
   ]
  },
  {
   "cell_type": "code",
   "execution_count": 3366,
   "metadata": {},
   "outputs": [],
   "source": [
    "X_do_teste['popularity_target'] = random_search.predict(X_do_teste)"
   ]
  },
  {
   "cell_type": "markdown",
   "metadata": {},
   "source": [
    "&ensp; Por fim, exporta-se o arquivo de submissão finalizando este notebook."
   ]
  },
  {
   "cell_type": "code",
   "execution_count": 3367,
   "metadata": {},
   "outputs": [],
   "source": [
    "submissao = X_do_teste.drop(columns=['album_name', 'artists', 'track_genre', 'familiar_artists', 'duration_ms', 'tempo', 'acousticness', 'energy'])\n",
    "submissao.to_csv('submissao_lucas_spotify.csv', index=True)"
   ]
  },
  {
   "cell_type": "markdown",
   "metadata": {},
   "source": [
    "## Referências"
   ]
  },
  {
   "cell_type": "markdown",
   "metadata": {},
   "source": [
    "* DESCOMPLICANDO A MÚSICA. Compasso musical | Descomplicando a Música. Disponível em: <https://www.descomplicandoamusica.com/compasso-musical/>. Acesso em: 26 set. 2024. \n",
    "* SCIKIT-LEARN. RandomForestClassifier. Disponível em: <https://scikit-learn.org/stable/modules/generated/sklearn.ensemble.RandomForestClassifier.html>. Acesso em: 30 set. 2024. \n",
    "* WIKIPEDIA. House music. Disponível em: <https://pt.wikipedia.org/wiki/House_music>. Acesso em: 28 set. 2024. "
   ]
  }
 ],
 "metadata": {
  "kernelspec": {
   "display_name": "Python 3",
   "language": "python",
   "name": "python3"
  },
  "language_info": {
   "codemirror_mode": {
    "name": "ipython",
    "version": 3
   },
   "file_extension": ".py",
   "mimetype": "text/x-python",
   "name": "python",
   "nbconvert_exporter": "python",
   "pygments_lexer": "ipython3",
   "version": "3.12.4"
  }
 },
 "nbformat": 4,
 "nbformat_minor": 2
}
